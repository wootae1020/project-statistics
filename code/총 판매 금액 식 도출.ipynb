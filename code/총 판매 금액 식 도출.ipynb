{
 "cells": [
  {
   "cell_type": "code",
   "execution_count": 1,
   "id": "f24c1932",
   "metadata": {},
   "outputs": [],
   "source": [
    "import pandas as pd\n",
    "df1 = pd.read_csv('Log_Data03.csv')\n",
    "df4 = pd.read_csv('Expert_Data.csv')"
   ]
  },
  {
   "cell_type": "code",
   "execution_count": 2,
   "id": "cd709dd6",
   "metadata": {},
   "outputs": [],
   "source": [
    "총판매금액계산 = df1.groupby('판매자')['총금액'].sum()\n",
    "df1['총판매금액'] = df1['판매자'].map(총판매금액계산)"
   ]
  },
  {
   "cell_type": "code",
   "execution_count": 3,
   "id": "c5e8a33e",
   "metadata": {},
   "outputs": [],
   "source": [
    "# 1. df2에서 판매자와 총 판매 금액만 추출\n",
    "df4_sum = df4[['판매자', '총 판매 금액']].drop_duplicates()\n",
    "\n",
    "# 2. df1과 df2를 판매자 기준으로 병합 (df1 기준으로)\n",
    "df1_merged = pd.merge(df1, df4_sum, on='판매자', how='inner')\n",
    "\n",
    "# 3. 비교: 총판매금액(df1 계산) vs 총 판매 금액(df2 제공)\n",
    "df1_merged['총판매금액_일치여부'] = df1_merged['총판매금액'] == df1_merged['총 판매 금액']\n",
    "\n",
    "# 4. 결과 확인 (판매자별로 중복 제거하고 보고 싶다면)\n",
    "비교결과 = df1_merged[['판매자', '총판매금액', '총 판매 금액', '총판매금액_일치여부']].drop_duplicates()"
   ]
  },
  {
   "cell_type": "code",
   "execution_count": 14,
   "id": "2c75d5c3",
   "metadata": {},
   "outputs": [
    {
     "data": {
      "text/html": [
       "<div>\n",
       "<style scoped>\n",
       "    .dataframe tbody tr th:only-of-type {\n",
       "        vertical-align: middle;\n",
       "    }\n",
       "\n",
       "    .dataframe tbody tr th {\n",
       "        vertical-align: top;\n",
       "    }\n",
       "\n",
       "    .dataframe thead th {\n",
       "        text-align: right;\n",
       "    }\n",
       "</style>\n",
       "<table border=\"1\" class=\"dataframe\">\n",
       "  <thead>\n",
       "    <tr style=\"text-align: right;\">\n",
       "      <th></th>\n",
       "      <th>판매자</th>\n",
       "      <th>총판매금액</th>\n",
       "      <th>총 판매 금액</th>\n",
       "      <th>총판매금액_일치여부</th>\n",
       "    </tr>\n",
       "  </thead>\n",
       "  <tbody>\n",
       "    <tr>\n",
       "      <th>0</th>\n",
       "      <td>logf1</td>\n",
       "      <td>4497380.0</td>\n",
       "      <td>4497380</td>\n",
       "      <td>True</td>\n",
       "    </tr>\n",
       "    <tr>\n",
       "      <th>402</th>\n",
       "      <td>엑셀의신</td>\n",
       "      <td>25505280.0</td>\n",
       "      <td>25505280</td>\n",
       "      <td>True</td>\n",
       "    </tr>\n",
       "    <tr>\n",
       "      <th>1989</th>\n",
       "      <td>태구리</td>\n",
       "      <td>33712920.0</td>\n",
       "      <td>33712920</td>\n",
       "      <td>True</td>\n",
       "    </tr>\n",
       "    <tr>\n",
       "      <th>2505</th>\n",
       "      <td>오Design</td>\n",
       "      <td>13025060.0</td>\n",
       "      <td>13025060</td>\n",
       "      <td>True</td>\n",
       "    </tr>\n",
       "    <tr>\n",
       "      <th>3108</th>\n",
       "      <td>WorldWiseWeb</td>\n",
       "      <td>15395530.0</td>\n",
       "      <td>15395530</td>\n",
       "      <td>True</td>\n",
       "    </tr>\n",
       "    <tr>\n",
       "      <th>...</th>\n",
       "      <td>...</td>\n",
       "      <td>...</td>\n",
       "      <td>...</td>\n",
       "      <td>...</td>\n",
       "    </tr>\n",
       "    <tr>\n",
       "      <th>344259</th>\n",
       "      <td>달콤한나의도시</td>\n",
       "      <td>203200.0</td>\n",
       "      <td>203200</td>\n",
       "      <td>True</td>\n",
       "    </tr>\n",
       "    <tr>\n",
       "      <th>344260</th>\n",
       "      <td>유민에브리띵</td>\n",
       "      <td>50600.0</td>\n",
       "      <td>50600</td>\n",
       "      <td>True</td>\n",
       "    </tr>\n",
       "    <tr>\n",
       "      <th>344262</th>\n",
       "      <td>아틀란기획</td>\n",
       "      <td>3065800.0</td>\n",
       "      <td>3065800</td>\n",
       "      <td>True</td>\n",
       "    </tr>\n",
       "    <tr>\n",
       "      <th>344264</th>\n",
       "      <td>어나더클래스</td>\n",
       "      <td>3872800.0</td>\n",
       "      <td>3872800</td>\n",
       "      <td>True</td>\n",
       "    </tr>\n",
       "    <tr>\n",
       "      <th>344271</th>\n",
       "      <td>FranciscoXavier</td>\n",
       "      <td>405040.0</td>\n",
       "      <td>405040</td>\n",
       "      <td>True</td>\n",
       "    </tr>\n",
       "  </tbody>\n",
       "</table>\n",
       "<p>2066 rows × 4 columns</p>\n",
       "</div>"
      ],
      "text/plain": [
       "                    판매자       총판매금액   총 판매 금액  총판매금액_일치여부\n",
       "0                 logf1   4497380.0   4497380        True\n",
       "402                엑셀의신  25505280.0  25505280        True\n",
       "1989                태구리  33712920.0  33712920        True\n",
       "2505            오Design  13025060.0  13025060        True\n",
       "3108       WorldWiseWeb  15395530.0  15395530        True\n",
       "...                 ...         ...       ...         ...\n",
       "344259          달콤한나의도시    203200.0    203200        True\n",
       "344260           유민에브리띵     50600.0     50600        True\n",
       "344262            아틀란기획   3065800.0   3065800        True\n",
       "344264           어나더클래스   3872800.0   3872800        True\n",
       "344271  FranciscoXavier    405040.0    405040        True\n",
       "\n",
       "[2066 rows x 4 columns]"
      ]
     },
     "execution_count": 14,
     "metadata": {},
     "output_type": "execute_result"
    }
   ],
   "source": [
    "비교결과"
   ]
  },
  {
   "cell_type": "code",
   "execution_count": 15,
   "id": "33f64f86",
   "metadata": {},
   "outputs": [
    {
     "data": {
      "text/plain": [
       "2066"
      ]
     },
     "execution_count": 15,
     "metadata": {},
     "output_type": "execute_result"
    }
   ],
   "source": [
    "df1.판매자.nunique()"
   ]
  },
  {
   "cell_type": "code",
   "execution_count": null,
   "id": "5bcec1b5",
   "metadata": {},
   "outputs": [],
   "source": []
  },
  {
   "cell_type": "code",
   "execution_count": null,
   "id": "6521c667",
   "metadata": {},
   "outputs": [],
   "source": []
  },
  {
   "cell_type": "code",
   "execution_count": 15,
   "id": "e3aeb6ba",
   "metadata": {},
   "outputs": [],
   "source": [
    "import pandas as pd\n",
    "df1 = pd.read_csv('Log_Data02.csv')\n",
    "df4 = pd.read_csv('Expert_Data.csv')"
   ]
  },
  {
   "cell_type": "code",
   "execution_count": 16,
   "id": "b3944c4b",
   "metadata": {},
   "outputs": [],
   "source": [
    "df1['총판매금액'] = df1['서비스가격'] + df1['추가결제금액'] + df1['추가결제금액']"
   ]
  },
  {
   "cell_type": "code",
   "execution_count": 23,
   "id": "96d8b609",
   "metadata": {},
   "outputs": [
    {
     "data": {
      "text/plain": [
       "총판매금액_일치여부\n",
       "True    63920\n",
       "Name: count, dtype: int64"
      ]
     },
     "execution_count": 23,
     "metadata": {},
     "output_type": "execute_result"
    }
   ],
   "source": [
    "df4 = df4[['판매자', '총 판매 금액']].drop_duplicates()\n",
    "merged = pd.merge(df1, df4, on='판매자', how='inner')\n",
    "merged['총판매금액_일치여부'] = (df1_merged['총판매금액'] == merged['총 판매 금액'])\n",
    "result = merged[['판매자', '총판매금액', '총 판매 금액', '총판매금액_일치여부']].drop_duplicates()\n",
    "result['총판매금액_일치여부'].value_counts()"
   ]
  },
  {
   "cell_type": "code",
   "execution_count": null,
   "id": "907a9b73",
   "metadata": {},
   "outputs": [],
   "source": []
  }
 ],
 "metadata": {
  "kernelspec": {
   "display_name": "Python [conda env:base] *",
   "language": "python",
   "name": "conda-base-py"
  },
  "language_info": {
   "codemirror_mode": {
    "name": "ipython",
    "version": 3
   },
   "file_extension": ".py",
   "mimetype": "text/x-python",
   "name": "python",
   "nbconvert_exporter": "python",
   "pygments_lexer": "ipython3",
   "version": "3.12.7"
  }
 },
 "nbformat": 4,
 "nbformat_minor": 5
}
