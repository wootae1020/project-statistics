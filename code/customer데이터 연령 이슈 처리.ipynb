{
 "cells": [
  {
   "cell_type": "code",
   "execution_count": 1,
   "id": "24af5dd5-47a1-4e96-8c86-331550c7a3d8",
   "metadata": {},
   "outputs": [],
   "source": [
    "import pandas as pd\n",
    "import matplotlib.pyplot as plt"
   ]
  },
  {
   "cell_type": "code",
   "execution_count": 5,
   "id": "3eeb367e-6d72-47f0-8a66-30cf8f7fb273",
   "metadata": {},
   "outputs": [
    {
     "data": {
      "text/html": [
       "<div>\n",
       "<style scoped>\n",
       "    .dataframe tbody tr th:only-of-type {\n",
       "        vertical-align: middle;\n",
       "    }\n",
       "\n",
       "    .dataframe tbody tr th {\n",
       "        vertical-align: top;\n",
       "    }\n",
       "\n",
       "    .dataframe thead th {\n",
       "        text-align: right;\n",
       "    }\n",
       "</style>\n",
       "<table border=\"1\" class=\"dataframe\">\n",
       "  <thead>\n",
       "    <tr style=\"text-align: right;\">\n",
       "      <th></th>\n",
       "      <th>고객ID</th>\n",
       "      <th>사용기기</th>\n",
       "      <th>사용OS</th>\n",
       "      <th>유입경로</th>\n",
       "      <th>회원상태</th>\n",
       "      <th>거주지</th>\n",
       "      <th>연령</th>\n",
       "      <th>서비스총구매수</th>\n",
       "      <th>총구매금액</th>\n",
       "      <th>총수정요청수</th>\n",
       "      <th>총추가결제금액</th>\n",
       "    </tr>\n",
       "  </thead>\n",
       "  <tbody>\n",
       "    <tr>\n",
       "      <th>0</th>\n",
       "      <td>1001010041</td>\n",
       "      <td>iPhone</td>\n",
       "      <td>iOS11.4.1</td>\n",
       "      <td>유튜브</td>\n",
       "      <td>정상회원</td>\n",
       "      <td>경기도</td>\n",
       "      <td>25.0</td>\n",
       "      <td>1</td>\n",
       "      <td>44500.0</td>\n",
       "      <td>0.0</td>\n",
       "      <td>14500</td>\n",
       "    </tr>\n",
       "    <tr>\n",
       "      <th>1</th>\n",
       "      <td>10010100410</td>\n",
       "      <td>SM-N935S</td>\n",
       "      <td>Android7.0</td>\n",
       "      <td>검색광고</td>\n",
       "      <td>정상회원</td>\n",
       "      <td>경기도</td>\n",
       "      <td>26.0</td>\n",
       "      <td>1</td>\n",
       "      <td>44500.0</td>\n",
       "      <td>0.0</td>\n",
       "      <td>14500</td>\n",
       "    </tr>\n",
       "    <tr>\n",
       "      <th>2</th>\n",
       "      <td>100101004108</td>\n",
       "      <td>iPhone</td>\n",
       "      <td>iOS12.0</td>\n",
       "      <td>네이버블로그</td>\n",
       "      <td>정상회원</td>\n",
       "      <td>경기도</td>\n",
       "      <td>23.0</td>\n",
       "      <td>1</td>\n",
       "      <td>34500.0</td>\n",
       "      <td>0.0</td>\n",
       "      <td>14500</td>\n",
       "    </tr>\n",
       "    <tr>\n",
       "      <th>3</th>\n",
       "      <td>100101004109</td>\n",
       "      <td>iPhone</td>\n",
       "      <td>iOS11.4.1</td>\n",
       "      <td>인스타그램</td>\n",
       "      <td>정상회원</td>\n",
       "      <td>경기도</td>\n",
       "      <td>20.0</td>\n",
       "      <td>1</td>\n",
       "      <td>364500.0</td>\n",
       "      <td>0.0</td>\n",
       "      <td>14500</td>\n",
       "    </tr>\n",
       "    <tr>\n",
       "      <th>4</th>\n",
       "      <td>100101004112</td>\n",
       "      <td>iPhone</td>\n",
       "      <td>iOS11.4.1</td>\n",
       "      <td>직접검색</td>\n",
       "      <td>정상회원</td>\n",
       "      <td>경기도</td>\n",
       "      <td>28.0</td>\n",
       "      <td>1</td>\n",
       "      <td>34500.0</td>\n",
       "      <td>0.0</td>\n",
       "      <td>14500</td>\n",
       "    </tr>\n",
       "    <tr>\n",
       "      <th>...</th>\n",
       "      <td>...</td>\n",
       "      <td>...</td>\n",
       "      <td>...</td>\n",
       "      <td>...</td>\n",
       "      <td>...</td>\n",
       "      <td>...</td>\n",
       "      <td>...</td>\n",
       "      <td>...</td>\n",
       "      <td>...</td>\n",
       "      <td>...</td>\n",
       "      <td>...</td>\n",
       "    </tr>\n",
       "    <tr>\n",
       "      <th>134131</th>\n",
       "      <td>9050206990</td>\n",
       "      <td>SM-N950N</td>\n",
       "      <td>Android8.0.0</td>\n",
       "      <td>유튜브</td>\n",
       "      <td>정상회원</td>\n",
       "      <td>경상도</td>\n",
       "      <td>21.0</td>\n",
       "      <td>2</td>\n",
       "      <td>75000.0</td>\n",
       "      <td>0.0</td>\n",
       "      <td>20000</td>\n",
       "    </tr>\n",
       "    <tr>\n",
       "      <th>134132</th>\n",
       "      <td>9050206992</td>\n",
       "      <td>iPhone</td>\n",
       "      <td>iOS11.4</td>\n",
       "      <td>네이버카페</td>\n",
       "      <td>탈퇴</td>\n",
       "      <td>강원도</td>\n",
       "      <td>26.0</td>\n",
       "      <td>1</td>\n",
       "      <td>310000.0</td>\n",
       "      <td>0.0</td>\n",
       "      <td>10000</td>\n",
       "    </tr>\n",
       "    <tr>\n",
       "      <th>134133</th>\n",
       "      <td>9050206995</td>\n",
       "      <td>iPhone</td>\n",
       "      <td>iOS12.0</td>\n",
       "      <td>인스타그램</td>\n",
       "      <td>정상회원</td>\n",
       "      <td>강원도</td>\n",
       "      <td>28.0</td>\n",
       "      <td>1</td>\n",
       "      <td>89000.0</td>\n",
       "      <td>0.0</td>\n",
       "      <td>10000</td>\n",
       "    </tr>\n",
       "    <tr>\n",
       "      <th>134134</th>\n",
       "      <td>9050206996</td>\n",
       "      <td>SM-G930S</td>\n",
       "      <td>Android8.0.0</td>\n",
       "      <td>네이버블로그</td>\n",
       "      <td>정상회원</td>\n",
       "      <td>강원도</td>\n",
       "      <td>43.0</td>\n",
       "      <td>1</td>\n",
       "      <td>9000.0</td>\n",
       "      <td>1.0</td>\n",
       "      <td>4000</td>\n",
       "    </tr>\n",
       "    <tr>\n",
       "      <th>134135</th>\n",
       "      <td>9050206998</td>\n",
       "      <td>SM-A530N</td>\n",
       "      <td>Android7.1.1</td>\n",
       "      <td>네이버카페</td>\n",
       "      <td>정상회원</td>\n",
       "      <td>충청도</td>\n",
       "      <td>23.0</td>\n",
       "      <td>1</td>\n",
       "      <td>30000.0</td>\n",
       "      <td>0.0</td>\n",
       "      <td>10000</td>\n",
       "    </tr>\n",
       "  </tbody>\n",
       "</table>\n",
       "<p>134136 rows × 11 columns</p>\n",
       "</div>"
      ],
      "text/plain": [
       "                고객ID      사용기기          사용OS    유입경로  회원상태  거주지    연령  \\\n",
       "0         1001010041    iPhone     iOS11.4.1     유튜브  정상회원  경기도  25.0   \n",
       "1        10010100410  SM-N935S    Android7.0    검색광고  정상회원  경기도  26.0   \n",
       "2       100101004108    iPhone       iOS12.0  네이버블로그  정상회원  경기도  23.0   \n",
       "3       100101004109    iPhone     iOS11.4.1   인스타그램  정상회원  경기도  20.0   \n",
       "4       100101004112    iPhone     iOS11.4.1    직접검색  정상회원  경기도  28.0   \n",
       "...              ...       ...           ...     ...   ...  ...   ...   \n",
       "134131    9050206990  SM-N950N  Android8.0.0     유튜브  정상회원  경상도  21.0   \n",
       "134132    9050206992    iPhone       iOS11.4   네이버카페    탈퇴  강원도  26.0   \n",
       "134133    9050206995    iPhone       iOS12.0   인스타그램  정상회원  강원도  28.0   \n",
       "134134    9050206996  SM-G930S  Android8.0.0  네이버블로그  정상회원  강원도  43.0   \n",
       "134135    9050206998  SM-A530N  Android7.1.1   네이버카페  정상회원  충청도  23.0   \n",
       "\n",
       "        서비스총구매수     총구매금액  총수정요청수  총추가결제금액  \n",
       "0             1   44500.0     0.0    14500  \n",
       "1             1   44500.0     0.0    14500  \n",
       "2             1   34500.0     0.0    14500  \n",
       "3             1  364500.0     0.0    14500  \n",
       "4             1   34500.0     0.0    14500  \n",
       "...         ...       ...     ...      ...  \n",
       "134131        2   75000.0     0.0    20000  \n",
       "134132        1  310000.0     0.0    10000  \n",
       "134133        1   89000.0     0.0    10000  \n",
       "134134        1    9000.0     1.0     4000  \n",
       "134135        1   30000.0     0.0    10000  \n",
       "\n",
       "[134136 rows x 11 columns]"
      ]
     },
     "execution_count": 5,
     "metadata": {},
     "output_type": "execute_result"
    }
   ],
   "source": [
    "df=pd.read_csv('Customer_data1.csv', encoding='cp949')\n",
    "df"
   ]
  },
  {
   "cell_type": "code",
   "execution_count": 8,
   "id": "0892f930-6275-413d-8a9a-2d9a1213c2f6",
   "metadata": {},
   "outputs": [
    {
     "data": {
      "text/plain": [
       "Index(['고객ID', '사용기기', '사용OS', '유입경로', '회원상태', '거주지', '연령', '서비스총구매수', '총구매금액',\n",
       "       '총수정요청수', '총추가결제금액'],\n",
       "      dtype='object')"
      ]
     },
     "execution_count": 8,
     "metadata": {},
     "output_type": "execute_result"
    }
   ],
   "source": [
    "df.columns"
   ]
  },
  {
   "cell_type": "code",
   "execution_count": 9,
   "id": "62394a6f-2205-425f-b05c-f3de86ab2fd2",
   "metadata": {},
   "outputs": [
    {
     "data": {
      "text/html": [
       "<div>\n",
       "<style scoped>\n",
       "    .dataframe tbody tr th:only-of-type {\n",
       "        vertical-align: middle;\n",
       "    }\n",
       "\n",
       "    .dataframe tbody tr th {\n",
       "        vertical-align: top;\n",
       "    }\n",
       "\n",
       "    .dataframe thead th {\n",
       "        text-align: right;\n",
       "    }\n",
       "</style>\n",
       "<table border=\"1\" class=\"dataframe\">\n",
       "  <thead>\n",
       "    <tr style=\"text-align: right;\">\n",
       "      <th></th>\n",
       "      <th>연령</th>\n",
       "      <th>서비스총구매수</th>\n",
       "      <th>총구매금액</th>\n",
       "      <th>총수정요청수</th>\n",
       "      <th>총추가결제금액</th>\n",
       "    </tr>\n",
       "  </thead>\n",
       "  <tbody>\n",
       "    <tr>\n",
       "      <th>0</th>\n",
       "      <td>25.0</td>\n",
       "      <td>1</td>\n",
       "      <td>44500.0</td>\n",
       "      <td>0.0</td>\n",
       "      <td>14500</td>\n",
       "    </tr>\n",
       "    <tr>\n",
       "      <th>1</th>\n",
       "      <td>26.0</td>\n",
       "      <td>1</td>\n",
       "      <td>44500.0</td>\n",
       "      <td>0.0</td>\n",
       "      <td>14500</td>\n",
       "    </tr>\n",
       "    <tr>\n",
       "      <th>2</th>\n",
       "      <td>23.0</td>\n",
       "      <td>1</td>\n",
       "      <td>34500.0</td>\n",
       "      <td>0.0</td>\n",
       "      <td>14500</td>\n",
       "    </tr>\n",
       "    <tr>\n",
       "      <th>3</th>\n",
       "      <td>20.0</td>\n",
       "      <td>1</td>\n",
       "      <td>364500.0</td>\n",
       "      <td>0.0</td>\n",
       "      <td>14500</td>\n",
       "    </tr>\n",
       "    <tr>\n",
       "      <th>4</th>\n",
       "      <td>28.0</td>\n",
       "      <td>1</td>\n",
       "      <td>34500.0</td>\n",
       "      <td>0.0</td>\n",
       "      <td>14500</td>\n",
       "    </tr>\n",
       "    <tr>\n",
       "      <th>...</th>\n",
       "      <td>...</td>\n",
       "      <td>...</td>\n",
       "      <td>...</td>\n",
       "      <td>...</td>\n",
       "      <td>...</td>\n",
       "    </tr>\n",
       "    <tr>\n",
       "      <th>134131</th>\n",
       "      <td>21.0</td>\n",
       "      <td>2</td>\n",
       "      <td>75000.0</td>\n",
       "      <td>0.0</td>\n",
       "      <td>20000</td>\n",
       "    </tr>\n",
       "    <tr>\n",
       "      <th>134132</th>\n",
       "      <td>26.0</td>\n",
       "      <td>1</td>\n",
       "      <td>310000.0</td>\n",
       "      <td>0.0</td>\n",
       "      <td>10000</td>\n",
       "    </tr>\n",
       "    <tr>\n",
       "      <th>134133</th>\n",
       "      <td>28.0</td>\n",
       "      <td>1</td>\n",
       "      <td>89000.0</td>\n",
       "      <td>0.0</td>\n",
       "      <td>10000</td>\n",
       "    </tr>\n",
       "    <tr>\n",
       "      <th>134134</th>\n",
       "      <td>43.0</td>\n",
       "      <td>1</td>\n",
       "      <td>9000.0</td>\n",
       "      <td>1.0</td>\n",
       "      <td>4000</td>\n",
       "    </tr>\n",
       "    <tr>\n",
       "      <th>134135</th>\n",
       "      <td>23.0</td>\n",
       "      <td>1</td>\n",
       "      <td>30000.0</td>\n",
       "      <td>0.0</td>\n",
       "      <td>10000</td>\n",
       "    </tr>\n",
       "  </tbody>\n",
       "</table>\n",
       "<p>134136 rows × 5 columns</p>\n",
       "</div>"
      ],
      "text/plain": [
       "          연령  서비스총구매수     총구매금액  총수정요청수  총추가결제금액\n",
       "0       25.0        1   44500.0     0.0    14500\n",
       "1       26.0        1   44500.0     0.0    14500\n",
       "2       23.0        1   34500.0     0.0    14500\n",
       "3       20.0        1  364500.0     0.0    14500\n",
       "4       28.0        1   34500.0     0.0    14500\n",
       "...      ...      ...       ...     ...      ...\n",
       "134131  21.0        2   75000.0     0.0    20000\n",
       "134132  26.0        1  310000.0     0.0    10000\n",
       "134133  28.0        1   89000.0     0.0    10000\n",
       "134134  43.0        1    9000.0     1.0     4000\n",
       "134135  23.0        1   30000.0     0.0    10000\n",
       "\n",
       "[134136 rows x 5 columns]"
      ]
     },
     "execution_count": 9,
     "metadata": {},
     "output_type": "execute_result"
    }
   ],
   "source": [
    "df1=df[['연령', '서비스총구매수', '총구매금액','총수정요청수', '총추가결제금액']]\n",
    "df1"
   ]
  },
  {
   "cell_type": "code",
   "execution_count": 10,
   "id": "dfd17365-b9a5-4d99-8e0b-63fa0553f7c6",
   "metadata": {},
   "outputs": [
    {
     "name": "stdout",
     "output_type": "stream",
     "text": [
      "<class 'pandas.core.frame.DataFrame'>\n",
      "RangeIndex: 134136 entries, 0 to 134135\n",
      "Data columns (total 5 columns):\n",
      " #   Column   Non-Null Count   Dtype  \n",
      "---  ------   --------------   -----  \n",
      " 0   연령       134136 non-null  float64\n",
      " 1   서비스총구매수  134136 non-null  int64  \n",
      " 2   총구매금액    134136 non-null  float64\n",
      " 3   총수정요청수   134136 non-null  float64\n",
      " 4   총추가결제금액  134136 non-null  int64  \n",
      "dtypes: float64(3), int64(2)\n",
      "memory usage: 5.1 MB\n"
     ]
    }
   ],
   "source": [
    "df1.info()"
   ]
  },
  {
   "cell_type": "code",
   "execution_count": 14,
   "id": "bed1e3ff-05e8-431d-a9a5-d83ddb152039",
   "metadata": {},
   "outputs": [
    {
     "name": "stderr",
     "output_type": "stream",
     "text": [
      "C:\\Users\\hdemn\\AppData\\Local\\Temp\\ipykernel_248416\\2574755261.py:1: SettingWithCopyWarning: \n",
      "A value is trying to be set on a copy of a slice from a DataFrame.\n",
      "Try using .loc[row_indexer,col_indexer] = value instead\n",
      "\n",
      "See the caveats in the documentation: https://pandas.pydata.org/pandas-docs/stable/user_guide/indexing.html#returning-a-view-versus-a-copy\n",
      "  df1[['총구매금액','연령','총추가결제금액']] = df1[['총구매금액','연령','총추가결제금액']].astype(int)\n"
     ]
    }
   ],
   "source": [
    "df1[['총구매금액','연령','총추가결제금액']] = df1[['총구매금액','연령','총추가결제금액']].astype(int)"
   ]
  },
  {
   "cell_type": "code",
   "execution_count": 15,
   "id": "23de4f1c-c049-4ef6-b296-1b033f54ba68",
   "metadata": {},
   "outputs": [
    {
     "name": "stdout",
     "output_type": "stream",
     "text": [
      "<class 'pandas.core.frame.DataFrame'>\n",
      "RangeIndex: 134136 entries, 0 to 134135\n",
      "Data columns (total 5 columns):\n",
      " #   Column   Non-Null Count   Dtype  \n",
      "---  ------   --------------   -----  \n",
      " 0   연령       134136 non-null  int32  \n",
      " 1   서비스총구매수  134136 non-null  int64  \n",
      " 2   총구매금액    134136 non-null  int32  \n",
      " 3   총수정요청수   134136 non-null  float64\n",
      " 4   총추가결제금액  134136 non-null  int32  \n",
      "dtypes: float64(1), int32(3), int64(1)\n",
      "memory usage: 3.6 MB\n"
     ]
    }
   ],
   "source": [
    "df1.info()"
   ]
  },
  {
   "cell_type": "code",
   "execution_count": 16,
   "id": "438cda5b-8275-4b20-8045-2656d4b9ec4c",
   "metadata": {},
   "outputs": [
    {
     "name": "stdout",
     "output_type": "stream",
     "text": [
      "연령          4869\n",
      "서비스총구매수     7055\n",
      "총구매금액      16477\n",
      "총수정요청수     35450\n",
      "총추가결제금액    11684\n",
      "dtype: int64\n"
     ]
    }
   ],
   "source": [
    "Q1 = df1.quantile(0.25)  # 1사분위 (25%)\n",
    "Q3 = df1.quantile(0.75)  # 3사분위 (75%)\n",
    "IQR = Q3 - Q1  # IQR (사분위 범위)\n",
    "\n",
    "# 이상치 기준: Q1 - 1.5*IQR 보다 작거나, Q3 + 1.5*IQR 보다 큰 값\n",
    "outliers = ((df1 < (Q1 - 1.5 * IQR)) | (df1 > (Q3 + 1.5 * IQR)))\n",
    "\n",
    "print(outliers.sum())  # 컬럼별 이상치 개수 확인"
   ]
  },
  {
   "cell_type": "code",
   "execution_count": 19,
   "id": "493fd28c-796a-41a1-8c2c-81aa38f78935",
   "metadata": {},
   "outputs": [
    {
     "data": {
      "image/png": "[encoded data removed]",
      "text/plain": [
       "<Figure size 1200x600 with 5 Axes>"
      ]
     },
     "metadata": {},
     "output_type": "display_data"
    }
   ],
   "source": [
    "import matplotlib.pyplot as plt\n",
    "\n",
    "plt.figure(figsize=(12, 6))\n",
    "for i, col in enumerate(df1.columns, 1):\n",
    "    plt.subplot(2, 3, i)  # 2행 3열 서브플롯\n",
    "    df1.boxplot(column=[col])\n",
    "    plt.title(col)\n",
    "\n",
    "plt.tight_layout()  # 자동 레이아웃 조정\n",
    "plt.show()"
   ]
  },
  {
   "cell_type": "code",
   "execution_count": 18,
   "id": "775ced1b-6444-4729-beeb-94efa5330cca",
   "metadata": {},
   "outputs": [],
   "source": [
    "import matplotlib.pyplot as plt\n",
    "import seaborn as sns\n",
    "import matplotlib.font_manager as fm\n",
    "\n",
    "# ✅ 한글 폰트 설정\n",
    "plt.rc('font', family='Malgun Gothic')  # Windows (맑은 고딕)\n",
    "# plt.rc('font', family='AppleGothic')  # Mac 사용자는 이걸로 변경\n",
    "\n",
    "# ✅ 마이너스 기호 깨짐 방지\n",
    "plt.rcParams['axes.unicode_minus'] = False"
   ]
  },
  {
   "cell_type": "code",
   "execution_count": 20,
   "id": "f9923a48-70c4-4161-b9c2-0a164e15bbd2",
   "metadata": {},
   "outputs": [
    {
     "name": "stderr",
     "output_type": "stream",
     "text": [
      "C:\\Users\\hdemn\\anaconda3\\Lib\\site-packages\\pandas\\core\\arraylike.py:399: RuntimeWarning: divide by zero encountered in log1p\n",
      "  result = getattr(ufunc, method)(*inputs, **kwargs)\n",
      "C:\\Users\\hdemn\\anaconda3\\Lib\\site-packages\\pandas\\core\\arraylike.py:399: RuntimeWarning: invalid value encountered in log1p\n",
      "  result = getattr(ufunc, method)(*inputs, **kwargs)\n"
     ]
    },
    {
     "data": {
      "image/png": "[encoded data removed]",
      "text/plain": [
       "<Figure size 1200x600 with 1 Axes>"
      ]
     },
     "metadata": {},
     "output_type": "display_data"
    }
   ],
   "source": [
    "import matplotlib.pyplot as plt\n",
    "import seaborn as sns\n",
    "import matplotlib.font_manager as fm\n",
    "\n",
    "# ✅ 한글 폰트 설정\n",
    "plt.rc('font', family='Malgun Gothic')  # Windows (맑은 고딕)\n",
    "# plt.rc('font', family='AppleGothic')  # Mac 사용자는 이걸로 변경\n",
    "\n",
    "# ✅ 마이너스 기호 깨짐 방지\n",
    "plt.rcParams['axes.unicode_minus'] = False\n",
    "\n",
    "import numpy as np\n",
    "\n",
    "df_log = df1.apply(lambda x: np.log1p(x))  # log(1 + x) 변환\n",
    "df_log.boxplot(figsize=(12, 6))\n",
    "plt.show()"
   ]
  },
  {
   "cell_type": "code",
   "execution_count": 23,
   "id": "ea21a017-5b43-4bd0-a4e3-30817f8e33c0",
   "metadata": {},
   "outputs": [
    {
     "name": "stdout",
     "output_type": "stream",
     "text": [
      "<class 'pandas.core.frame.DataFrame'>\n",
      "RangeIndex: 134136 entries, 0 to 134135\n",
      "Data columns (total 1 columns):\n",
      " #   Column  Non-Null Count   Dtype\n",
      "---  ------  --------------   -----\n",
      " 0   연령      134136 non-null  int32\n",
      "dtypes: int32(1)\n",
      "memory usage: 524.1 KB\n"
     ]
    }
   ],
   "source": [
    "df2=df1[['연령']]\n",
    "df2.info()"
   ]
  },
  {
   "cell_type": "code",
   "execution_count": 25,
   "id": "03d2ae40-ffc6-4e3d-847b-4a4bb3d9993b",
   "metadata": {},
   "outputs": [
    {
     "name": "stdout",
     "output_type": "stream",
     "text": [
      "연령    4869\n",
      "dtype: int64\n"
     ]
    }
   ],
   "source": [
    "Q1 = df2.quantile(0.25)  # 1사분위 (25%)\n",
    "Q3 = df2.quantile(0.75)  # 3사분위 (75%)\n",
    "IQR = Q3 - Q1  # IQR (사분위 범위)\n",
    "\n",
    "# 이상치 기준: Q1 - 1.5*IQR 보다 작거나, Q3 + 1.5*IQR 보다 큰 값\n",
    "outliers = ((df2 < (Q1 - 1.5 * IQR)) | (df2 > (Q3 + 1.5 * IQR)))\n",
    "\n",
    "print(outliers.sum())  # 컬럼별 이상치 개수 확인"
   ]
  },
  {
   "cell_type": "code",
   "execution_count": 26,
   "id": "59fed537-2cdd-471c-9d0d-0e85dc7d5158",
   "metadata": {},
   "outputs": [
    {
     "data": {
      "image/png": "[encoded data removed]",
      "text/plain": [
       "<Figure size 1200x600 with 1 Axes>"
      ]
     },
     "metadata": {},
     "output_type": "display_data"
    }
   ],
   "source": [
    "import matplotlib.pyplot as plt\n",
    "\n",
    "plt.figure(figsize=(12, 6))\n",
    "for i, col in enumerate(df2.columns, 1):\n",
    "    plt.subplot(2, 3, i)  # 2행 3열 서브플롯\n",
    "    df2.boxplot(column=[col])\n",
    "    plt.title(col)\n",
    "\n",
    "plt.tight_layout()  # 자동 레이아웃 조정\n",
    "plt.show()"
   ]
  },
  {
   "cell_type": "code",
   "execution_count": 27,
   "id": "64fd5134-64c8-4a39-b234-7e18539d9ca0",
   "metadata": {},
   "outputs": [
    {
     "data": {
      "text/html": [
       "<div>\n",
       "<style scoped>\n",
       "    .dataframe tbody tr th:only-of-type {\n",
       "        vertical-align: middle;\n",
       "    }\n",
       "\n",
       "    .dataframe tbody tr th {\n",
       "        vertical-align: top;\n",
       "    }\n",
       "\n",
       "    .dataframe thead th {\n",
       "        text-align: right;\n",
       "    }\n",
       "</style>\n",
       "<table border=\"1\" class=\"dataframe\">\n",
       "  <thead>\n",
       "    <tr style=\"text-align: right;\">\n",
       "      <th></th>\n",
       "      <th>연령</th>\n",
       "    </tr>\n",
       "  </thead>\n",
       "  <tbody>\n",
       "    <tr>\n",
       "      <th>count</th>\n",
       "      <td>134136.000000</td>\n",
       "    </tr>\n",
       "    <tr>\n",
       "      <th>mean</th>\n",
       "      <td>27.687273</td>\n",
       "    </tr>\n",
       "    <tr>\n",
       "      <th>std</th>\n",
       "      <td>6.633998</td>\n",
       "    </tr>\n",
       "    <tr>\n",
       "      <th>min</th>\n",
       "      <td>0.000000</td>\n",
       "    </tr>\n",
       "    <tr>\n",
       "      <th>25%</th>\n",
       "      <td>23.000000</td>\n",
       "    </tr>\n",
       "    <tr>\n",
       "      <th>50%</th>\n",
       "      <td>26.000000</td>\n",
       "    </tr>\n",
       "    <tr>\n",
       "      <th>75%</th>\n",
       "      <td>31.000000</td>\n",
       "    </tr>\n",
       "    <tr>\n",
       "      <th>max</th>\n",
       "      <td>85.000000</td>\n",
       "    </tr>\n",
       "  </tbody>\n",
       "</table>\n",
       "</div>"
      ],
      "text/plain": [
       "                  연령\n",
       "count  134136.000000\n",
       "mean       27.687273\n",
       "std         6.633998\n",
       "min         0.000000\n",
       "25%        23.000000\n",
       "50%        26.000000\n",
       "75%        31.000000\n",
       "max        85.000000"
      ]
     },
     "execution_count": 27,
     "metadata": {},
     "output_type": "execute_result"
    }
   ],
   "source": [
    "df2.describe()"
   ]
  },
  {
   "cell_type": "code",
   "execution_count": 28,
   "id": "d5c0e9a4-6761-42bb-b9ab-33ee2c1d20e5",
   "metadata": {},
   "outputs": [
    {
     "data": {
      "text/plain": [
       "연령    31.0\n",
       "Name: 0.75, dtype: float64"
      ]
     },
     "execution_count": 28,
     "metadata": {},
     "output_type": "execute_result"
    }
   ],
   "source": [
    "Q3"
   ]
  },
  {
   "cell_type": "code",
   "execution_count": 29,
   "id": "6199250f-5f14-40fe-b7e9-5d923371e108",
   "metadata": {},
   "outputs": [
    {
     "name": "stdout",
     "output_type": "stream",
     "text": [
      "<class 'pandas.core.frame.DataFrame'>\n",
      "RangeIndex: 134136 entries, 0 to 134135\n",
      "Data columns (total 5 columns):\n",
      " #   Column   Non-Null Count   Dtype  \n",
      "---  ------   --------------   -----  \n",
      " 0   연령       134136 non-null  int32  \n",
      " 1   서비스총구매수  134136 non-null  int64  \n",
      " 2   총구매금액    134136 non-null  int32  \n",
      " 3   총수정요청수   134136 non-null  float64\n",
      " 4   총추가결제금액  134136 non-null  int32  \n",
      "dtypes: float64(1), int32(3), int64(1)\n",
      "memory usage: 3.6 MB\n"
     ]
    }
   ],
   "source": [
    "df3=df1\n",
    "df3.info()"
   ]
  },
  {
   "cell_type": "code",
   "execution_count": 35,
   "id": "e886ca95-a66f-4822-84f5-5e6090cec29e",
   "metadata": {},
   "outputs": [],
   "source": [
    "df3=df3[(df3['연령'] != 0) & (df3['연령'] != 85)]"
   ]
  },
  {
   "cell_type": "code",
   "execution_count": 36,
   "id": "b254e81f-68e9-4ed6-bca9-dc0b5749a885",
   "metadata": {},
   "outputs": [
    {
     "name": "stdout",
     "output_type": "stream",
     "text": [
      "연령          4719\n",
      "서비스총구매수     7049\n",
      "총구매금액      16455\n",
      "총수정요청수     35412\n",
      "총추가결제금액    11675\n",
      "dtype: int64\n"
     ]
    }
   ],
   "source": [
    "Q1 = df3.quantile(0.25)  # 1사분위 (25%)\n",
    "Q3 = df3.quantile(0.75)  # 3사분위 (75%)\n",
    "IQR = Q3 - Q1  # IQR (사분위 범위)\n",
    "\n",
    "# 이상치 기준: Q1 - 1.5*IQR 보다 작거나, Q3 + 1.5*IQR 보다 큰 값\n",
    "outliers = ((df3 < (Q1 - 1.5 * IQR)) | (df3 > (Q3 + 1.5 * IQR)))\n",
    "\n",
    "print(outliers.sum())  # 컬럼별 이상치 개수 확인"
   ]
  },
  {
   "cell_type": "code",
   "execution_count": 37,
   "id": "509b6b96-f41f-4750-9e9c-a7608218c6eb",
   "metadata": {},
   "outputs": [
    {
     "data": {
      "image/png": "[encoded data removed]",
      "text/plain": [
       "<Figure size 1200x600 with 5 Axes>"
      ]
     },
     "metadata": {},
     "output_type": "display_data"
    }
   ],
   "source": [
    "import matplotlib.pyplot as plt\n",
    "\n",
    "plt.figure(figsize=(12, 6))\n",
    "for i, col in enumerate(df3.columns, 1):\n",
    "    plt.subplot(2, 3, i)  # 2행 3열 서브플롯\n",
    "    df3.boxplot(column=[col])\n",
    "    plt.title(col)\n",
    "\n",
    "plt.tight_layout()  # 자동 레이아웃 조정\n",
    "plt.show()"
   ]
  },
  {
   "cell_type": "code",
   "execution_count": 38,
   "id": "7bc685f9-7662-4a07-baa6-28125b280f16",
   "metadata": {},
   "outputs": [
    {
     "data": {
      "text/html": [
       "<div>\n",
       "<style scoped>\n",
       "    .dataframe tbody tr th:only-of-type {\n",
       "        vertical-align: middle;\n",
       "    }\n",
       "\n",
       "    .dataframe tbody tr th {\n",
       "        vertical-align: top;\n",
       "    }\n",
       "\n",
       "    .dataframe thead th {\n",
       "        text-align: right;\n",
       "    }\n",
       "</style>\n",
       "<table border=\"1\" class=\"dataframe\">\n",
       "  <thead>\n",
       "    <tr style=\"text-align: right;\">\n",
       "      <th></th>\n",
       "      <th>연령</th>\n",
       "      <th>서비스총구매수</th>\n",
       "      <th>총구매금액</th>\n",
       "      <th>총수정요청수</th>\n",
       "      <th>총추가결제금액</th>\n",
       "    </tr>\n",
       "  </thead>\n",
       "  <tbody>\n",
       "    <tr>\n",
       "      <th>count</th>\n",
       "      <td>133986.000000</td>\n",
       "      <td>133986.000000</td>\n",
       "      <td>1.339860e+05</td>\n",
       "      <td>133986.000000</td>\n",
       "      <td>1.339860e+05</td>\n",
       "    </tr>\n",
       "    <tr>\n",
       "      <th>mean</th>\n",
       "      <td>27.709388</td>\n",
       "      <td>2.503829</td>\n",
       "      <td>1.575837e+05</td>\n",
       "      <td>0.434060</td>\n",
       "      <td>9.889593e+03</td>\n",
       "    </tr>\n",
       "    <tr>\n",
       "      <th>std</th>\n",
       "      <td>6.552662</td>\n",
       "      <td>3.985611</td>\n",
       "      <td>4.752366e+05</td>\n",
       "      <td>1.573078</td>\n",
       "      <td>1.845588e+04</td>\n",
       "    </tr>\n",
       "    <tr>\n",
       "      <th>min</th>\n",
       "      <td>19.000000</td>\n",
       "      <td>1.000000</td>\n",
       "      <td>0.000000e+00</td>\n",
       "      <td>-6.000000</td>\n",
       "      <td>0.000000e+00</td>\n",
       "    </tr>\n",
       "    <tr>\n",
       "      <th>25%</th>\n",
       "      <td>23.000000</td>\n",
       "      <td>1.000000</td>\n",
       "      <td>2.020000e+04</td>\n",
       "      <td>0.000000</td>\n",
       "      <td>0.000000e+00</td>\n",
       "    </tr>\n",
       "    <tr>\n",
       "      <th>50%</th>\n",
       "      <td>26.000000</td>\n",
       "      <td>1.000000</td>\n",
       "      <td>5.340000e+04</td>\n",
       "      <td>0.000000</td>\n",
       "      <td>4.200000e+03</td>\n",
       "    </tr>\n",
       "    <tr>\n",
       "      <th>75%</th>\n",
       "      <td>31.000000</td>\n",
       "      <td>3.000000</td>\n",
       "      <td>1.315000e+05</td>\n",
       "      <td>0.000000</td>\n",
       "      <td>1.140000e+04</td>\n",
       "    </tr>\n",
       "    <tr>\n",
       "      <th>max</th>\n",
       "      <td>68.000000</td>\n",
       "      <td>96.000000</td>\n",
       "      <td>4.505250e+07</td>\n",
       "      <td>120.000000</td>\n",
       "      <td>1.445200e+06</td>\n",
       "    </tr>\n",
       "  </tbody>\n",
       "</table>\n",
       "</div>"
      ],
      "text/plain": [
       "                  연령        서비스총구매수         총구매금액         총수정요청수       총추가결제금액\n",
       "count  133986.000000  133986.000000  1.339860e+05  133986.000000  1.339860e+05\n",
       "mean       27.709388       2.503829  1.575837e+05       0.434060  9.889593e+03\n",
       "std         6.552662       3.985611  4.752366e+05       1.573078  1.845588e+04\n",
       "min        19.000000       1.000000  0.000000e+00      -6.000000  0.000000e+00\n",
       "25%        23.000000       1.000000  2.020000e+04       0.000000  0.000000e+00\n",
       "50%        26.000000       1.000000  5.340000e+04       0.000000  4.200000e+03\n",
       "75%        31.000000       3.000000  1.315000e+05       0.000000  1.140000e+04\n",
       "max        68.000000      96.000000  4.505250e+07     120.000000  1.445200e+06"
      ]
     },
     "execution_count": 38,
     "metadata": {},
     "output_type": "execute_result"
    }
   ],
   "source": [
    "df3.describe()"
   ]
  },
  {
   "cell_type": "code",
   "execution_count": null,
   "id": "de70f62b-bf76-4994-af46-cc06f7f5daa7",
   "metadata": {},
   "outputs": [],
   "source": []
  },
  {
   "cell_type": "code",
   "execution_count": null,
   "id": "6746f16e-944c-40af-b1e1-56c20dabeeb1",
   "metadata": {},
   "outputs": [],
   "source": []
  },
  {
   "cell_type": "code",
   "execution_count": null,
   "id": "26bb490b-9160-487f-a732-9798b8e846a7",
   "metadata": {},
   "outputs": [],
   "source": []
  },
  {
   "cell_type": "code",
   "execution_count": null,
   "id": "93e43507-d2eb-457f-a811-cbb908804b96",
   "metadata": {},
   "outputs": [],
   "source": []
  }
 ],
 "metadata": {
  "kernelspec": {
   "display_name": "Python 3 (ipykernel)",
   "language": "python",
   "name": "python3"
  },
  "language_info": {
   "codemirror_mode": {
    "name": "ipython",
    "version": 3
   },
   "file_extension": ".py",
   "mimetype": "text/x-python",
   "name": "python",
   "nbconvert_exporter": "python",
   "pygments_lexer": "ipython3",
   "version": "3.12.7"
  }
 },
 "nbformat": 4,
 "nbformat_minor": 5
}
