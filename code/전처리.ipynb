{
 "cells": [
  {
   "cell_type": "code",
   "execution_count": 1,
   "id": "30de1d86-7cf7-4ef4-b704-94c7aeee3b8b",
   "metadata": {},
   "outputs": [],
   "source": [
    "import pandas as pd\n",
    "df_Log = pd.read_csv('Log_Data02.csv')"
   ]
  },
  {
   "cell_type": "code",
   "execution_count": 2,
   "id": "7fea4959-5d4c-4f70-805c-ea6d89326d52",
   "metadata": {},
   "outputs": [],
   "source": [
    "df_Log['총금액'] = df_Log['판매금액'] + df_Log['추가결제금액']\n",
    "df_Log['매출'] = df_Log['총금액'] * df_Log['수수료율']\n",
    "df_Log.to_csv(\"Log_Data03.csv\", encoding=\"utf-8-sig\", index=False)"
   ]
  },
  {
   "cell_type": "code",
   "execution_count": 3,
   "id": "b3a40220",
   "metadata": {},
   "outputs": [
    {
     "name": "stdout",
     "output_type": "stream",
     "text": [
      "            거래일자  수수료율         고객ID  프로그램수정횟수  추가결제금액  거래취소여부  거래취소일자  \\\n",
      "17454   20210209   6.5  50816001153       0.0       0     NaN     NaN   \n",
      "81902   20210116   6.5   6020101421       0.0       0     NaN     NaN   \n",
      "83472   20210117   6.5  50175001149       0.0       0     NaN     NaN   \n",
      "89505   20210120   6.5  50508001176       0.0       0     NaN     NaN   \n",
      "90305   20210120   6.5   6020101448       0.0       0     NaN     NaN   \n",
      "136135  20210313   6.5  60201159110       0.0    1500     NaN     NaN   \n",
      "165304  20210328   6.5  10020100315       0.0       0     NaN     NaN   \n",
      "194655  20210413   7.5  10020100310       0.0       0     NaN     NaN   \n",
      "205598  20210419   6.5  10020100572       0.0       0     NaN     NaN   \n",
      "247761  20210513   6.5   5050801794       0.0       0     NaN     NaN   \n",
      "334959  20210626   6.5   6020101420       0.0       0     NaN     NaN   \n",
      "\n",
      "                                        서비스명     판매자     판매금액    서비스가격   평점  \\\n",
      "17454   Python으로 머신러닝,딥러닝 데이터분석 모델링을 해 드립니다.  Kerry7  50000.0  50000.0  4.9   \n",
      "81902             홈페이지 수정, 이미지 및 텍스트 등 간단 수정    YaaP   5000.0   5000.0  5.0   \n",
      "83472                     기획력있는 퍼블리싱 해 드립니다.  기발한기발자  20000.0  20000.0  5.0   \n",
      "89505            카페24쇼핑몰 수정, 추가, 소셜로그인, 기능추가     var  15000.0  15000.0  5.0   \n",
      "90305            VBA 프로그램 , 엑셀 매크로 제작해 드립니다.  스마트dda   5000.0   5000.0  5.0   \n",
      "136135                        VBA 막힐 때 물어보세요    연봉백억   6500.0   5000.0  5.0   \n",
      "165304        카페24,고도몰,메이크샵,모든쇼핑몰 수정,오류,문제해결  오즈의해결사   5000.0   5000.0  5.0   \n",
      "194655                    C언어 프로그래밍을 해 드립니다.   C튜토리얼   7500.0   7500.0  5.0   \n",
      "205598       엑셀 VBA, 매크로, ERP 프로그램 개발해 드립니다.    엑셀의신  10000.0  10000.0  5.0   \n",
      "247761                 고퀄리티의 퍼블리싱을 구현해 드립니다.     은앤은   5000.0   5000.0  5.0   \n",
      "334959                 고퀄리티의 퍼블리싱을 구현해 드립니다.     은앤은   5000.0   5000.0  5.0   \n",
      "\n",
      "         이용자수    대분류   서비스번호      총금액        매출  \n",
      "17454    32.0    데이터  2614.0  50000.0  325000.0  \n",
      "81902    42.0   홈페이지  2483.0   5000.0   32500.0  \n",
      "83472    55.0     기획  2412.0  20000.0  130000.0  \n",
      "89505   137.0    커머스  2205.0  15000.0   97500.0  \n",
      "90305   126.0    데이터  2219.0   5000.0   32500.0  \n",
      "136135    6.0     기타  3555.0   8000.0   52000.0  \n",
      "165304    2.0    커머스  4649.0   5000.0   32500.0  \n",
      "194655   59.0  프로그래밍  2392.0   7500.0   56250.0  \n",
      "205598  583.0    데이터  2103.0  10000.0   65000.0  \n",
      "247761   25.0   홈페이지  2717.0   5000.0   32500.0  \n",
      "334959   25.0   홈페이지  2717.0   5000.0   32500.0  \n"
     ]
    }
   ],
   "source": [
    "# 중복된 행 제거 -------------------------------------------------\n",
    "df_Log.nunique()\n",
    "df_Log.duplicated().sum()\n",
    "print(df_Log[df_Log.duplicated()])\n",
    "df_Log = df_Log.drop_duplicates()"
   ]
  },
  {
   "cell_type": "code",
   "execution_count": 4,
   "id": "84af26e0",
   "metadata": {},
   "outputs": [],
   "source": [
    "# 결측 제거------------------------------------------------------\n",
    "df_Log['거래취소여부'] = df_Log['거래취소여부'].fillna(0)\n",
    "df_Log=df_Log.drop('거래취소일자',axis=1)\n",
    "df_Log=df_Log.dropna()\n",
    "df_Log.to_csv(\"Log_Data_0.csv\", encoding=\"utf-8-sig\", index=False)"
   ]
  },
  {
   "cell_type": "code",
   "execution_count": 5,
   "id": "d3b60b75-6a1d-4f63-86d8-b99b281e71e9",
   "metadata": {},
   "outputs": [],
   "source": [
    "# 이상치 제거 ------------------------------------------------------------------\n",
    "df_Log = df_Log[df_Log.프로그램수정횟수!=119]\n",
    "df_Log.to_csv('Log_Data_1.csv',encoding='utf-8-sig',index=False)"
   ]
  },
  {
   "cell_type": "code",
   "execution_count": 6,
   "id": "10324af2-b088-45bb-96eb-6a80fdc4146d",
   "metadata": {},
   "outputs": [],
   "source": [
    "# 이상치 대체 ---------------------------------------------------- --------------\n",
    "df_Log.loc[df_Log.프로그램수정횟수 == -1, '거래취소여부'] = 1\n",
    "df_Log.to_csv('Log_Data_2.csv',encoding='utf-8-sig',index=False)"
   ]
  },
  {
   "cell_type": "code",
   "execution_count": null,
   "id": "400f4c77-2826-4ea2-96f0-23fe8bc0cbdc",
   "metadata": {},
   "outputs": [],
   "source": []
  },
  {
   "cell_type": "code",
   "execution_count": 7,
   "id": "b30df9b9-d6e1-49cf-a396-5587a76c026f",
   "metadata": {},
   "outputs": [],
   "source": [
    "# Service_Data.csv 에 결측치 제거 -----------------------------------------------\n",
    "df_service = pd.read_csv('Service_Data.csv')\n",
    "df_service = df_service.dropna()"
   ]
  },
  {
   "cell_type": "code",
   "execution_count": 8,
   "id": "3a45cad7-fff1-4a0a-82b1-d8751dfed28d",
   "metadata": {},
   "outputs": [],
   "source": [
    "# 중복된 서비스(판매수를 제외한 기준)끼리 판매수를 합치고 하나로 만들기 --------------\n",
    "df_service = df_service.groupby(['서비스명', '판매자', '서비스가격', '평점', '대분류', '서비스번호'],as_index=False).agg({'판매수': 'sum'})\n",
    "df_service.to_csv('Service_Data_0.csv',encoding='utf-8-sig',index=False)"
   ]
  },
  {
   "cell_type": "code",
   "execution_count": null,
   "id": "cf18a640-840e-4d09-b461-fd2a2d0f250a",
   "metadata": {},
   "outputs": [],
   "source": []
  },
  {
   "cell_type": "code",
   "execution_count": 9,
   "id": "0edcafbc-165b-43f7-97c3-9121c5459f66",
   "metadata": {},
   "outputs": [],
   "source": [
    "# Customer_data.csv 에 결측치,이상치 제거 ----------------------------------------------\n",
    "df_customer = pd.read_csv('Customer_data.csv')\n",
    "df_customer.isnull().sum()\n",
    "df_customer = df_customer.drop('성별',axis=1)\n",
    "df_customer = df_customer[(df_customer['연령'] != 0) & (df_customer['연령'] != 85)]\n",
    "df_customer.loc[df_customer['총수정요청수'] == 120, '총수정요청수'] = 1\n",
    "df_customer = df_customer.dropna()\n",
    "df_customer.to_csv('Customer_Data_0.csv',encoding='utf-8-sig',index=False)"
   ]
  },
  {
   "cell_type": "code",
   "execution_count": null,
   "id": "eeb05542-aca7-4ccf-ac84-e61d8d7379aa",
   "metadata": {},
   "outputs": [],
   "source": []
  },
  {
   "cell_type": "code",
   "execution_count": 10,
   "id": "4d638348-ba80-43d0-9b8e-79fb355c957d",
   "metadata": {},
   "outputs": [
    {
     "name": "stdout",
     "output_type": "stream",
     "text": [
      "<class 'pandas.core.frame.DataFrame'>\n",
      "RangeIndex: 344265 entries, 0 to 344264\n",
      "Data columns (total 16 columns):\n",
      " #   Column    Non-Null Count   Dtype  \n",
      "---  ------    --------------   -----  \n",
      " 0   거래일자      344265 non-null  int64  \n",
      " 1   수수료율      344265 non-null  float64\n",
      " 2   고객ID      344265 non-null  int64  \n",
      " 3   프로그램수정횟수  344265 non-null  float64\n",
      " 4   추가결제금액    344265 non-null  int64  \n",
      " 5   거래취소여부    344265 non-null  float64\n",
      " 6   서비스명      344265 non-null  object \n",
      " 7   판매자       344265 non-null  object \n",
      " 8   판매금액      344265 non-null  float64\n",
      " 9   서비스가격     344265 non-null  float64\n",
      " 10  평점        344265 non-null  float64\n",
      " 11  이용자수      344265 non-null  float64\n",
      " 12  대분류       344265 non-null  object \n",
      " 13  서비스번호     344265 non-null  float64\n",
      " 14  총금액       344265 non-null  float64\n",
      " 15  매출        344265 non-null  float64\n",
      "dtypes: float64(10), int64(3), object(3)\n",
      "memory usage: 42.0+ MB\n",
      "<class 'pandas.core.frame.DataFrame'>\n",
      "RangeIndex: 133986 entries, 0 to 133985\n",
      "Data columns (total 11 columns):\n",
      " #   Column   Non-Null Count   Dtype  \n",
      "---  ------   --------------   -----  \n",
      " 0   고객ID     133986 non-null  int64  \n",
      " 1   사용기기     133986 non-null  object \n",
      " 2   사용OS     133986 non-null  object \n",
      " 3   유입경로     133986 non-null  object \n",
      " 4   회원상태     133986 non-null  object \n",
      " 5   거주지      133986 non-null  object \n",
      " 6   연령       133986 non-null  float64\n",
      " 7   서비스총구매수  133986 non-null  int64  \n",
      " 8   총구매금액    133986 non-null  float64\n",
      " 9   총수정요청수   133986 non-null  float64\n",
      " 10  총추가결제금액  133986 non-null  int64  \n",
      "dtypes: float64(3), int64(3), object(5)\n",
      "memory usage: 11.2+ MB\n",
      "<class 'pandas.core.frame.DataFrame'>\n",
      "RangeIndex: 335450 entries, 0 to 335449\n",
      "Data columns (total 26 columns):\n",
      " #   Column    Non-Null Count   Dtype  \n",
      "---  ------    --------------   -----  \n",
      " 0   거래일자      335450 non-null  int64  \n",
      " 1   수수료율      335450 non-null  float64\n",
      " 2   고객ID      335450 non-null  int64  \n",
      " 3   프로그램수정횟수  335450 non-null  float64\n",
      " 4   추가결제금액    335450 non-null  int64  \n",
      " 5   거래취소여부    335450 non-null  float64\n",
      " 6   서비스명      335450 non-null  object \n",
      " 7   판매자       335450 non-null  object \n",
      " 8   판매금액      335450 non-null  float64\n",
      " 9   서비스가격     335450 non-null  float64\n",
      " 10  평점        335450 non-null  float64\n",
      " 11  이용자수      335450 non-null  float64\n",
      " 12  대분류       335450 non-null  object \n",
      " 13  서비스번호     335450 non-null  float64\n",
      " 14  총금액       335450 non-null  float64\n",
      " 15  매출        335450 non-null  float64\n",
      " 16  사용기기      335450 non-null  object \n",
      " 17  사용OS      335450 non-null  object \n",
      " 18  유입경로      335450 non-null  object \n",
      " 19  회원상태      335450 non-null  object \n",
      " 20  거주지       335450 non-null  object \n",
      " 21  연령        335450 non-null  float64\n",
      " 22  서비스총구매수   335450 non-null  int64  \n",
      " 23  총구매금액     335450 non-null  float64\n",
      " 24  총수정요청수    335450 non-null  float64\n",
      " 25  총추가결제금액   335450 non-null  int64  \n",
      "dtypes: float64(13), int64(5), object(8)\n",
      "memory usage: 66.5+ MB\n"
     ]
    }
   ],
   "source": [
    "# Log_Data_2 + Customer_Data_0 ------------------------------------------------\n",
    "df1=pd.read_csv('Log_Data_2.csv')\n",
    "df2=pd.read_csv('Customer_Data_0.csv')\n",
    "df1.info()\n",
    "df2.info()\n",
    "df12 = pd.merge(df1,df2,on='고객ID')\n",
    "df12.info()"
   ]
  },
  {
   "cell_type": "code",
   "execution_count": 11,
   "id": "21e00f67-fd28-4701-afca-2780a9c79e76",
   "metadata": {},
   "outputs": [
    {
     "name": "stdout",
     "output_type": "stream",
     "text": [
      "<class 'pandas.core.frame.DataFrame'>\n",
      "RangeIndex: 2863 entries, 0 to 2862\n",
      "Data columns (total 7 columns):\n",
      " #   Column  Non-Null Count  Dtype  \n",
      "---  ------  --------------  -----  \n",
      " 0   서비스명    2863 non-null   object \n",
      " 1   판매자     2863 non-null   object \n",
      " 2   서비스가격   2863 non-null   float64\n",
      " 3   평점      2863 non-null   float64\n",
      " 4   대분류     2863 non-null   object \n",
      " 5   서비스번호   2863 non-null   float64\n",
      " 6   판매수     2863 non-null   int64  \n",
      "dtypes: float64(3), int64(1), object(3)\n",
      "memory usage: 156.7+ KB\n",
      "<class 'pandas.core.frame.DataFrame'>\n",
      "RangeIndex: 2066 entries, 0 to 2065\n",
      "Data columns (total 6 columns):\n",
      " #   Column          Non-Null Count  Dtype \n",
      "---  ------          --------------  ----- \n",
      " 0   판매자ID           2066 non-null   object\n",
      " 1   판매자             2066 non-null   object\n",
      " 2   판매 서비스 수        2066 non-null   int64 \n",
      " 3   총 판매 금액         2066 non-null   int64 \n",
      " 4   프리미엄 서비스 가입여부   2066 non-null   object\n",
      " 5   신속 알람 서비스 사용여부  2066 non-null   object\n",
      "dtypes: int64(2), object(4)\n",
      "memory usage: 97.0+ KB\n",
      "<class 'pandas.core.frame.DataFrame'>\n",
      "RangeIndex: 2863 entries, 0 to 2862\n",
      "Data columns (total 12 columns):\n",
      " #   Column          Non-Null Count  Dtype  \n",
      "---  ------          --------------  -----  \n",
      " 0   서비스명            2863 non-null   object \n",
      " 1   판매자             2863 non-null   object \n",
      " 2   서비스가격           2863 non-null   float64\n",
      " 3   평점              2863 non-null   float64\n",
      " 4   대분류             2863 non-null   object \n",
      " 5   서비스번호           2863 non-null   float64\n",
      " 6   판매수             2863 non-null   int64  \n",
      " 7   판매자ID           2863 non-null   object \n",
      " 8   판매 서비스 수        2863 non-null   int64  \n",
      " 9   총 판매 금액         2863 non-null   int64  \n",
      " 10  프리미엄 서비스 가입여부   2863 non-null   object \n",
      " 11  신속 알람 서비스 사용여부  2863 non-null   object \n",
      "dtypes: float64(3), int64(3), object(6)\n",
      "memory usage: 268.5+ KB\n"
     ]
    }
   ],
   "source": [
    "# Service_Data_0 + Expert_Data ------------------------------------------------\n",
    "df3=pd.read_csv('Service_Data_0.csv')\n",
    "df4=pd.read_csv('Expert_Data.csv')\n",
    "df3.info()\n",
    "df4.info()\n",
    "df34 = pd.merge(df3,df4,on='판매자')\n",
    "df34.info()"
   ]
  },
  {
   "cell_type": "code",
   "execution_count": null,
   "id": "b404c98e-e4fa-4472-9c37-d899e1bf2bde",
   "metadata": {},
   "outputs": [],
   "source": []
  },
  {
   "cell_type": "code",
   "execution_count": 12,
   "id": "fec3435b-24f0-429d-82d5-f6bcb4731c3b",
   "metadata": {},
   "outputs": [
    {
     "name": "stdout",
     "output_type": "stream",
     "text": [
      "<class 'pandas.core.frame.DataFrame'>\n",
      "RangeIndex: 335450 entries, 0 to 335449\n",
      "Data columns (total 37 columns):\n",
      " #   Column          Non-Null Count   Dtype  \n",
      "---  ------          --------------   -----  \n",
      " 0   거래일자            335450 non-null  int64  \n",
      " 1   수수료율            335450 non-null  float64\n",
      " 2   고객ID            335450 non-null  int64  \n",
      " 3   프로그램수정횟수        335450 non-null  float64\n",
      " 4   추가결제금액          335450 non-null  int64  \n",
      " 5   거래취소여부          335450 non-null  float64\n",
      " 6   서비스명_x          335450 non-null  object \n",
      " 7   판매자_x           335450 non-null  object \n",
      " 8   판매금액            335450 non-null  float64\n",
      " 9   서비스가격_x         335450 non-null  float64\n",
      " 10  평점_x            335450 non-null  float64\n",
      " 11  이용자수            335450 non-null  float64\n",
      " 12  대분류_x           335450 non-null  object \n",
      " 13  서비스번호           335450 non-null  float64\n",
      " 14  총금액             335450 non-null  float64\n",
      " 15  매출              335450 non-null  float64\n",
      " 16  사용기기            335450 non-null  object \n",
      " 17  사용OS            335450 non-null  object \n",
      " 18  유입경로            335450 non-null  object \n",
      " 19  회원상태            335450 non-null  object \n",
      " 20  거주지             335450 non-null  object \n",
      " 21  연령              335450 non-null  float64\n",
      " 22  서비스총구매수         335450 non-null  int64  \n",
      " 23  총구매금액           335450 non-null  float64\n",
      " 24  총수정요청수          335450 non-null  float64\n",
      " 25  총추가결제금액         335450 non-null  int64  \n",
      " 26  서비스명_y          335450 non-null  object \n",
      " 27  판매자_y           335450 non-null  object \n",
      " 28  서비스가격_y         335450 non-null  float64\n",
      " 29  평점_y            335450 non-null  float64\n",
      " 30  대분류_y           335450 non-null  object \n",
      " 31  판매수             335450 non-null  int64  \n",
      " 32  판매자ID           335450 non-null  object \n",
      " 33  판매 서비스 수        335450 non-null  int64  \n",
      " 34  총 판매 금액         335450 non-null  int64  \n",
      " 35  프리미엄 서비스 가입여부   335450 non-null  object \n",
      " 36  신속 알람 서비스 사용여부  335450 non-null  object \n",
      "dtypes: float64(15), int64(8), object(14)\n",
      "memory usage: 94.7+ MB\n"
     ]
    }
   ],
   "source": [
    "# merge -----------------------------------------------------------------------\n",
    "df1234 = pd.merge(df12,df34,on='서비스번호')\n",
    "df1234.info()\n",
    "df1234.to_csv('Merge_0.csv',encoding='utf-8-sig',index=False)"
   ]
  },
  {
   "cell_type": "code",
   "execution_count": 13,
   "id": "eafc005e-96a9-4819-bf08-d8807f15c955",
   "metadata": {},
   "outputs": [
    {
     "name": "stdout",
     "output_type": "stream",
     "text": [
      "삭제된 중복 컬럼 목록: ['서비스명_y', '판매자_y', '서비스가격_y', '평점_y', '대분류_y']\n",
      "최종 컬럼 수: 32\n"
     ]
    }
   ],
   "source": [
    "# 동일 컬럼 제거 ----------------------------------------------------------------\n",
    "df_M0 = pd.read_csv('Merge_0.csv')\n",
    "x_cols = [col for col in df_M0.columns if col.endswith('_x')]\n",
    "y_cols = [col for col in df_M0.columns if col.endswith('_y')]\n",
    "\n",
    "base_names = [col[:-2] for col in x_cols if col[:-2] in [y[:-2] for y in y_cols]]\n",
    "\n",
    "cols_to_drop = []\n",
    "for base in base_names:\n",
    "    col_x = f\"{base}_x\"\n",
    "    col_y = f\"{base}_y\"\n",
    "    if df_M0[col_x].equals(df_M0[col_y]):\n",
    "        cols_to_drop.append(col_y)  # y 컬럼 삭제 대상\n",
    "\n",
    "df_M0 = df_M0.drop(columns=cols_to_drop)\n",
    "\n",
    "df_M0.columns = [col[:-2] if col.endswith('_x') else col for col in df_M0.columns]\n",
    "\n",
    "print(\"삭제된 중복 컬럼 목록:\", cols_to_drop)\n",
    "print(\"최종 컬럼 수:\", len(df_M0.columns))\n",
    "df_M0.columns\n",
    "df_M0.to_csv('Merge_1.csv',encoding='utf-8-sig',index=False)"
   ]
  },
  {
   "cell_type": "code",
   "execution_count": 14,
   "id": "20a369bc-7c0c-4194-94eb-338fbe7388bf",
   "metadata": {},
   "outputs": [
    {
     "name": "stdout",
     "output_type": "stream",
     "text": [
      "<class 'pandas.core.frame.DataFrame'>\n",
      "RangeIndex: 335450 entries, 0 to 335449\n",
      "Data columns (total 32 columns):\n",
      " #   Column          Non-Null Count   Dtype  \n",
      "---  ------          --------------   -----  \n",
      " 0   거래일자            335450 non-null  int64  \n",
      " 1   수수료율            335450 non-null  float64\n",
      " 2   고객ID            335450 non-null  int64  \n",
      " 3   프로그램수정횟수        335450 non-null  int32  \n",
      " 4   추가결제금액          335450 non-null  int64  \n",
      " 5   거래취소여부          335450 non-null  float64\n",
      " 6   서비스명            335450 non-null  object \n",
      " 7   판매자             335450 non-null  object \n",
      " 8   판매금액            335450 non-null  float64\n",
      " 9   서비스가격           335450 non-null  float64\n",
      " 10  평점              335450 non-null  float64\n",
      " 11  이용자수            335450 non-null  float64\n",
      " 12  대분류             335450 non-null  object \n",
      " 13  서비스번호           335450 non-null  float64\n",
      " 14  총금액             335450 non-null  float64\n",
      " 15  매출              335450 non-null  float64\n",
      " 16  사용기기            335450 non-null  object \n",
      " 17  사용OS            335450 non-null  object \n",
      " 18  유입경로            335450 non-null  object \n",
      " 19  회원상태            335450 non-null  object \n",
      " 20  거주지             335450 non-null  object \n",
      " 21  연령              335450 non-null  float64\n",
      " 22  서비스총구매수         335450 non-null  int64  \n",
      " 23  총구매금액           335450 non-null  float64\n",
      " 24  총수정요청수          335450 non-null  int32  \n",
      " 25  총추가결제금액         335450 non-null  int64  \n",
      " 26  판매수             335450 non-null  int64  \n",
      " 27  판매자ID           335450 non-null  object \n",
      " 28  판매 서비스 수        335450 non-null  int64  \n",
      " 29  총 판매 금액         335450 non-null  float64\n",
      " 30  프리미엄 서비스 가입여부   335450 non-null  object \n",
      " 31  신속 알람 서비스 사용여부  335450 non-null  object \n",
      "dtypes: float64(12), int32(2), int64(7), object(11)\n",
      "memory usage: 79.3+ MB\n"
     ]
    }
   ],
   "source": [
    "# -----------------------------------------------------------------------------\n",
    "df_M1 = pd.read_csv('Merge_1.csv')\n",
    "df_M1.프로그램수정횟수 = df_M1.프로그램수정횟수.astype(int)\n",
    "\n",
    "조건1 = df_M1['고객ID'].value_counts()\n",
    "df_M1['서비스총구매수'] = df_M1['고객ID'].map(조건1)\n",
    "\n",
    "조건2 = df_M1.groupby('고객ID')['판매금액'].sum()\n",
    "df_M1['총구매금액'] = df_M1['고객ID'].map(조건2)\n",
    "\n",
    "조건3 = df_M1.groupby('고객ID')['프로그램수정횟수'].sum()\n",
    "df_M1['총수정요청수'] = df_M1['고객ID'].map(조건3)\n",
    "\n",
    "조건4 = df_M1.groupby('고객ID')['추가결제금액'].sum()\n",
    "df_M1['총추가결제금액'] = df_M1['고객ID'].map(조건4)\n",
    "\n",
    "총판매금액계산 = df_M1.groupby('판매자')['총금액'].sum()\n",
    "df_M1['총 판매 금액'] = df_M1['판매자'].map(총판매금액계산)\n",
    "\n",
    "df_M1.info()\n",
    "df_M1.to_csv('Merge_2.csv',encoding='utf-8-sig',index=False)"
   ]
  },
  {
   "cell_type": "code",
   "execution_count": null,
   "id": "cc8dd5e5-858f-4bbb-97ac-0098268e516e",
   "metadata": {},
   "outputs": [],
   "source": []
  }
 ],
 "metadata": {
  "kernelspec": {
   "display_name": "Python 3 (ipykernel)",
   "language": "python",
   "name": "python3"
  },
  "language_info": {
   "codemirror_mode": {
    "name": "ipython",
    "version": 3
   },
   "file_extension": ".py",
   "mimetype": "text/x-python",
   "name": "python",
   "nbconvert_exporter": "python",
   "pygments_lexer": "ipython3",
   "version": "3.11.5"
  }
 },
 "nbformat": 4,
 "nbformat_minor": 5
}
