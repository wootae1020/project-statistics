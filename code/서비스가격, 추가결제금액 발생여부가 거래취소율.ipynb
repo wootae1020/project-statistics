{
 "cells": [
  {
   "cell_type": "code",
   "execution_count": 32,
   "id": "38859f0a-d53b-4910-b297-5c899e94137c",
   "metadata": {},
   "outputs": [],
   "source": [
    "import pandas as pd\n",
    "df=pd.read_csv(\"C:/Users/campus4D038/Desktop/프로젝트 1/Merge_2.csv\")\n",
    "df['거래일자'] = pd.to_datetime(df['거래일자']) # int -> datetime\n",
    "df['거래취소여부'] = df['거래취소여부'].astype('int64') # float64 -> int64\n",
    "df['판매금액'] = df['판매금액'].astype('int64') #float64 -> int64\n",
    "df['서비스가격'] = df['서비스가격'].astype('int64') #float64 -> int64\n",
    "df['이용자수'] = df['이용자수'].astype('int64') #float64 -> int64\n",
    "df['서비스번호'] = df['서비스번호'].astype('int64') #float64 -> int64\n",
    "df['총금액'] = df['총금액'].astype('int64') #float64 -> int64\n",
    "df['매출'] = df['매출'].astype('int64') #float64 -> int64\n",
    "df['연령'] = df['연령'].astype('int64') #float64 -> int64\n",
    "df['총구매금액'] = df['총구매금액'].astype('int64') #float64 -> int64\n",
    "df['총 판매 금액'] = df['총 판매 금액'].astype('int64') #float64 -> int64"
   ]
  },
  {
   "cell_type": "code",
   "execution_count": 35,
   "id": "a16b92fd",
   "metadata": {},
   "outputs": [
    {
     "data": {
      "text/plain": [
       "[1, 0]\n",
       "Categories (2, int64): [0, 1]"
      ]
     },
     "execution_count": 35,
     "metadata": {},
     "output_type": "execute_result"
    }
   ],
   "source": [
    "df1=df.copy()\n",
    "# 새로운 컬럼 '추가결제금액발생여부' 생성\n",
    "df1['추가결제금액발생여부'] = df1['추가결제금액'].apply(lambda x: 0 if x == 0 else 1)\n",
    "df1['추가결제금액발생여부'] = df1['추가결제금액발생여부'].astype('category')\n",
    "df1['추가결제금액발생여부'].unique()"
   ]
  },
  {
   "cell_type": "code",
   "execution_count": 36,
   "id": "cbc6da96",
   "metadata": {},
   "outputs": [],
   "source": [
    "import matplotlib.pyplot as plt\n",
    "import matplotlib.font_manager as fm\n",
    "\n",
    "plt.rc('font', family='Malgun Gothic')\n",
    "plt.rcParams['axes.unicode_minus'] = False  # 마이너스 깨짐 방지"
   ]
  },
  {
   "cell_type": "code",
   "execution_count": 15,
   "id": "90a995ef-fe4f-40fd-af08-a0c2366e82d9",
   "metadata": {},
   "outputs": [
    {
     "data": {
      "text/html": [
       "<div>\n",
       "<style scoped>\n",
       "    .dataframe tbody tr th:only-of-type {\n",
       "        vertical-align: middle;\n",
       "    }\n",
       "\n",
       "    .dataframe tbody tr th {\n",
       "        vertical-align: top;\n",
       "    }\n",
       "\n",
       "    .dataframe thead th {\n",
       "        text-align: right;\n",
       "    }\n",
       "</style>\n",
       "<table border=\"1\" class=\"dataframe\">\n",
       "  <thead>\n",
       "    <tr style=\"text-align: right;\">\n",
       "      <th></th>\n",
       "      <th>대분류</th>\n",
       "      <th>거래취소율</th>\n",
       "      <th>판매금액</th>\n",
       "      <th>서비스가격</th>\n",
       "      <th>추가결제금액</th>\n",
       "      <th>총금액</th>\n",
       "      <th>매출</th>\n",
       "    </tr>\n",
       "  </thead>\n",
       "  <tbody>\n",
       "    <tr>\n",
       "      <th>0</th>\n",
       "      <td>UnReal</td>\n",
       "      <td>2.589928</td>\n",
       "      <td>56500</td>\n",
       "      <td>55000</td>\n",
       "      <td>0</td>\n",
       "      <td>58000</td>\n",
       "      <td>412500</td>\n",
       "    </tr>\n",
       "    <tr>\n",
       "      <th>1</th>\n",
       "      <td>게임</td>\n",
       "      <td>1.045179</td>\n",
       "      <td>11150</td>\n",
       "      <td>5000</td>\n",
       "      <td>0</td>\n",
       "      <td>13800</td>\n",
       "      <td>97500</td>\n",
       "    </tr>\n",
       "    <tr>\n",
       "      <th>2</th>\n",
       "      <td>기타</td>\n",
       "      <td>1.679382</td>\n",
       "      <td>20000</td>\n",
       "      <td>11000</td>\n",
       "      <td>1</td>\n",
       "      <td>25000</td>\n",
       "      <td>162500</td>\n",
       "    </tr>\n",
       "    <tr>\n",
       "      <th>3</th>\n",
       "      <td>기획</td>\n",
       "      <td>2.160333</td>\n",
       "      <td>49000</td>\n",
       "      <td>49000</td>\n",
       "      <td>1</td>\n",
       "      <td>49000</td>\n",
       "      <td>318500</td>\n",
       "    </tr>\n",
       "    <tr>\n",
       "      <th>4</th>\n",
       "      <td>데이터</td>\n",
       "      <td>2.187246</td>\n",
       "      <td>20000</td>\n",
       "      <td>20000</td>\n",
       "      <td>0</td>\n",
       "      <td>25000</td>\n",
       "      <td>175500</td>\n",
       "    </tr>\n",
       "    <tr>\n",
       "      <th>5</th>\n",
       "      <td>디자인</td>\n",
       "      <td>4.315333</td>\n",
       "      <td>33000</td>\n",
       "      <td>33000</td>\n",
       "      <td>1</td>\n",
       "      <td>36000</td>\n",
       "      <td>259600</td>\n",
       "    </tr>\n",
       "    <tr>\n",
       "      <th>6</th>\n",
       "      <td>모바일</td>\n",
       "      <td>2.129980</td>\n",
       "      <td>51400</td>\n",
       "      <td>50000</td>\n",
       "      <td>0</td>\n",
       "      <td>53800</td>\n",
       "      <td>391500</td>\n",
       "    </tr>\n",
       "    <tr>\n",
       "      <th>7</th>\n",
       "      <td>인공지능</td>\n",
       "      <td>2.894356</td>\n",
       "      <td>99000</td>\n",
       "      <td>99000</td>\n",
       "      <td>0</td>\n",
       "      <td>99000</td>\n",
       "      <td>643500</td>\n",
       "    </tr>\n",
       "    <tr>\n",
       "      <th>8</th>\n",
       "      <td>커머스</td>\n",
       "      <td>1.822088</td>\n",
       "      <td>10000</td>\n",
       "      <td>5000</td>\n",
       "      <td>0</td>\n",
       "      <td>13000</td>\n",
       "      <td>90000</td>\n",
       "    </tr>\n",
       "    <tr>\n",
       "      <th>9</th>\n",
       "      <td>프로그래밍</td>\n",
       "      <td>2.218745</td>\n",
       "      <td>28100</td>\n",
       "      <td>20000</td>\n",
       "      <td>0</td>\n",
       "      <td>30000</td>\n",
       "      <td>215800</td>\n",
       "    </tr>\n",
       "    <tr>\n",
       "      <th>10</th>\n",
       "      <td>프로그램</td>\n",
       "      <td>3.167551</td>\n",
       "      <td>50000</td>\n",
       "      <td>50000</td>\n",
       "      <td>0</td>\n",
       "      <td>50000</td>\n",
       "      <td>325000</td>\n",
       "    </tr>\n",
       "    <tr>\n",
       "      <th>11</th>\n",
       "      <td>홈페이지</td>\n",
       "      <td>2.349296</td>\n",
       "      <td>25000</td>\n",
       "      <td>20000</td>\n",
       "      <td>0</td>\n",
       "      <td>30000</td>\n",
       "      <td>195000</td>\n",
       "    </tr>\n",
       "  </tbody>\n",
       "</table>\n",
       "</div>"
      ],
      "text/plain": [
       "       대분류     거래취소율   판매금액  서비스가격  추가결제금액    총금액      매출\n",
       "0   UnReal  2.589928  56500  55000       0  58000  412500\n",
       "1       게임  1.045179  11150   5000       0  13800   97500\n",
       "2       기타  1.679382  20000  11000       1  25000  162500\n",
       "3       기획  2.160333  49000  49000       1  49000  318500\n",
       "4      데이터  2.187246  20000  20000       0  25000  175500\n",
       "5      디자인  4.315333  33000  33000       1  36000  259600\n",
       "6      모바일  2.129980  51400  50000       0  53800  391500\n",
       "7     인공지능  2.894356  99000  99000       0  99000  643500\n",
       "8      커머스  1.822088  10000   5000       0  13000   90000\n",
       "9    프로그래밍  2.218745  28100  20000       0  30000  215800\n",
       "10    프로그램  3.167551  50000  50000       0  50000  325000\n",
       "11    홈페이지  2.349296  25000  20000       0  30000  195000"
      ]
     },
     "execution_count": 15,
     "metadata": {},
     "output_type": "execute_result"
    }
   ],
   "source": [
    "# 2-1 ②. 대분류 O 가격에 따라 (서비스 카테고리별)거래 성사율에 차이\n",
    "\n",
    "# 대분류 별 그룹화 => 거래성사율, 판매금액, 총금액, 매출의 평균 구하기\n",
    "df_grouped = df1.groupby('대분류').agg(\n",
    "    거래취소율=('거래취소여부', lambda x: (x == 1).mean() * 100),\n",
    "    판매금액=('판매금액', 'median'),\n",
    "    서비스가격=('서비스가격', 'median'),\n",
    "    추가결제금액=('추가결제금액', 'median'),\n",
    "    총금액=('총금액', 'median'),\n",
    "    매출=('매출', 'median')\n",
    ").reset_index()\n",
    "\n",
    "df_grouped['판매금액'] = df_grouped['판매금액'].round()\n",
    "df_grouped['서비스가격'] = df_grouped['서비스가격'].round()\n",
    "df_grouped['추가결제금액'] = df_grouped['추가결제금액'].round()\n",
    "df_grouped['총금액'] = df_grouped['총금액'].round()\n",
    "df_grouped['매출'] = df_grouped['매출'].round()\n",
    "\n",
    "df_grouped['판매금액'] = df_grouped['판매금액'].astype(int)\n",
    "df_grouped['서비스가격'] = df_grouped['서비스가격'].astype(int)\n",
    "df_grouped['추가결제금액'] = df_grouped['추가결제금액'].astype(int)\n",
    "df_grouped['총금액'] = df_grouped['총금액'].astype(int)\n",
    "df_grouped['매출'] = df_grouped['매출'].astype(int)\n",
    "df_grouped"
   ]
  },
  {
   "cell_type": "code",
   "execution_count": 17,
   "id": "a1a0eebd",
   "metadata": {},
   "outputs": [
    {
     "data": {
      "image/png": "[encoded data removed]",
      "text/plain": [
       "<Figure size 800x600 with 2 Axes>"
      ]
     },
     "metadata": {},
     "output_type": "display_data"
    }
   ],
   "source": [
    "import seaborn as sns\n",
    "corr = df_grouped[['서비스가격', '추가결제금액', '거래취소율']].corr()\n",
    "plt.figure(figsize=(8, 6))\n",
    "sns.heatmap(corr, annot=True, fmt='.2f', cmap='coolwarm', square=True)\n",
    "plt.title('서비스가격 · 추가결제금액 · 거래취소율 간 상관관계')\n",
    "plt.tight_layout()\n",
    "plt.show()"
   ]
  },
  {
   "cell_type": "code",
   "execution_count": 18,
   "id": "607e9b28",
   "metadata": {
    "scrolled": true
   },
   "outputs": [
    {
     "name": "stdout",
     "output_type": "stream",
     "text": [
      "서비스가격 ↔ 거래취소율 | 상관계수: 0.476 | p-value: 0.11736\n",
      "추가결제금액 ↔ 거래취소율 | 상관계수: 0.248 | p-value: 0.43659\n"
     ]
    }
   ],
   "source": [
    "from scipy.stats import pearsonr  # 꼭 먼저 실행!\n",
    "\n",
    "variables = ['서비스가격', '추가결제금액']\n",
    "for var in variables:\n",
    "    corr, p = pearsonr(df_grouped[var], df_grouped['거래취소율'])\n",
    "    print(f\"{var} ↔ 거래취소율 | 상관계수: {corr:.3f} | p-value: {p:.5f}\")"
   ]
  },
  {
   "cell_type": "markdown",
   "id": "55f3bb50-5453-4ae1-bb0c-f67079b1164e",
   "metadata": {},
   "source": [
    "서비스 가격 , 추가 결제금액 발생여부=> 거래취소율에 영향 "
   ]
  },
  {
   "cell_type": "code",
   "execution_count": null,
   "id": "c4977221",
   "metadata": {},
   "outputs": [],
   "source": []
  },
  {
   "cell_type": "code",
   "execution_count": 37,
   "id": "216683d9-3561-4228-bb83-7f0f998fa7c5",
   "metadata": {},
   "outputs": [
    {
     "data": {
      "text/html": [
       "<div>\n",
       "<style scoped>\n",
       "    .dataframe tbody tr th:only-of-type {\n",
       "        vertical-align: middle;\n",
       "    }\n",
       "\n",
       "    .dataframe tbody tr th {\n",
       "        vertical-align: top;\n",
       "    }\n",
       "\n",
       "    .dataframe thead th {\n",
       "        text-align: right;\n",
       "    }\n",
       "</style>\n",
       "<table border=\"1\" class=\"dataframe\">\n",
       "  <thead>\n",
       "    <tr style=\"text-align: right;\">\n",
       "      <th></th>\n",
       "      <th>서비스가격</th>\n",
       "      <th>서비스번호</th>\n",
       "      <th>거래취소율</th>\n",
       "    </tr>\n",
       "  </thead>\n",
       "  <tbody>\n",
       "    <tr>\n",
       "      <th>0</th>\n",
       "      <td>5000</td>\n",
       "      <td>2102</td>\n",
       "      <td>1.256281</td>\n",
       "    </tr>\n",
       "    <tr>\n",
       "      <th>1</th>\n",
       "      <td>10000</td>\n",
       "      <td>2103</td>\n",
       "      <td>2.434337</td>\n",
       "    </tr>\n",
       "    <tr>\n",
       "      <th>2</th>\n",
       "      <td>50000</td>\n",
       "      <td>2105</td>\n",
       "      <td>2.083333</td>\n",
       "    </tr>\n",
       "    <tr>\n",
       "      <th>3</th>\n",
       "      <td>5000</td>\n",
       "      <td>2106</td>\n",
       "      <td>3.589744</td>\n",
       "    </tr>\n",
       "    <tr>\n",
       "      <th>4</th>\n",
       "      <td>5000</td>\n",
       "      <td>2107</td>\n",
       "      <td>1.207938</td>\n",
       "    </tr>\n",
       "    <tr>\n",
       "      <th>...</th>\n",
       "      <td>...</td>\n",
       "      <td>...</td>\n",
       "      <td>...</td>\n",
       "    </tr>\n",
       "    <tr>\n",
       "      <th>2857</th>\n",
       "      <td>850000</td>\n",
       "      <td>6488</td>\n",
       "      <td>0.000000</td>\n",
       "    </tr>\n",
       "    <tr>\n",
       "      <th>2858</th>\n",
       "      <td>550000</td>\n",
       "      <td>6489</td>\n",
       "      <td>0.000000</td>\n",
       "    </tr>\n",
       "    <tr>\n",
       "      <th>2859</th>\n",
       "      <td>380000</td>\n",
       "      <td>6494</td>\n",
       "      <td>0.000000</td>\n",
       "    </tr>\n",
       "    <tr>\n",
       "      <th>2860</th>\n",
       "      <td>33000</td>\n",
       "      <td>6495</td>\n",
       "      <td>0.000000</td>\n",
       "    </tr>\n",
       "    <tr>\n",
       "      <th>2861</th>\n",
       "      <td>50000</td>\n",
       "      <td>6496</td>\n",
       "      <td>0.000000</td>\n",
       "    </tr>\n",
       "  </tbody>\n",
       "</table>\n",
       "<p>2862 rows × 3 columns</p>\n",
       "</div>"
      ],
      "text/plain": [
       "       서비스가격  서비스번호     거래취소율\n",
       "0       5000   2102  1.256281\n",
       "1      10000   2103  2.434337\n",
       "2      50000   2105  2.083333\n",
       "3       5000   2106  3.589744\n",
       "4       5000   2107  1.207938\n",
       "...      ...    ...       ...\n",
       "2857  850000   6488  0.000000\n",
       "2858  550000   6489  0.000000\n",
       "2859  380000   6494  0.000000\n",
       "2860   33000   6495  0.000000\n",
       "2861   50000   6496  0.000000\n",
       "\n",
       "[2862 rows x 3 columns]"
      ]
     },
     "execution_count": 37,
     "metadata": {},
     "output_type": "execute_result"
    }
   ],
   "source": [
    "df_selected = df1[['서비스가격', '서비스번호', '거래취소여부']]\n",
    "\n",
    "df_grouped = df_selected.groupby('서비스번호').agg(\n",
    "    취소된_거래수=('거래취소여부', lambda x: (x == 1).sum()),  # 거래취소여부가 1인 취소된 거래 수\n",
    "    전체_거래수=('거래취소여부', 'count')                    # 서비스명별 전체 거래 수\n",
    ").reset_index()\n",
    "\n",
    "# 거래취소율 계산\n",
    "df_grouped['거래취소율'] = (df_grouped['취소된_거래수'] / df_grouped['전체_거래수']) * 100\n",
    "\n",
    "# 서비스명별 가격은 첫 번째 값만 가져오기 (서비스번호별 가격은 동일하므로 첫 번째 값만 사용)\n",
    "df_grouped['서비스가격'] = df.groupby('서비스번호')['서비스가격'].first().values\n",
    "\n",
    "df_3 = df_grouped[['서비스가격', '서비스번호', '거래취소율']]\n",
    "\n",
    "df_3"
   ]
  },
  {
   "cell_type": "code",
   "execution_count": 38,
   "id": "b67eabdf-72b9-4160-ad63-6e208135382d",
   "metadata": {},
   "outputs": [],
   "source": [
    "df2 = df1[['서비스번호','추가결제금액발생여부']]"
   ]
  },
  {
   "cell_type": "code",
   "execution_count": 39,
   "id": "19fe0a8b-6788-4857-a921-d7e608467ac2",
   "metadata": {},
   "outputs": [],
   "source": [
    "df_4 = pd.merge(df_3,df2,on='서비스번호')"
   ]
  },
  {
   "cell_type": "code",
   "execution_count": 40,
   "id": "29bae746-e576-41f9-89e5-583028987597",
   "metadata": {},
   "outputs": [
    {
     "name": "stdout",
     "output_type": "stream",
     "text": [
      "<class 'pandas.core.frame.DataFrame'>\n",
      "RangeIndex: 335782 entries, 0 to 335781\n",
      "Data columns (total 4 columns):\n",
      " #   Column      Non-Null Count   Dtype   \n",
      "---  ------      --------------   -----   \n",
      " 0   서비스가격       335782 non-null  int64   \n",
      " 1   서비스번호       335782 non-null  int64   \n",
      " 2   거래취소율       335782 non-null  float64 \n",
      " 3   추가결제금액발생여부  335782 non-null  category\n",
      "dtypes: category(1), float64(1), int64(2)\n",
      "memory usage: 8.0 MB\n"
     ]
    }
   ],
   "source": [
    "df_4.info()"
   ]
  },
  {
   "cell_type": "code",
   "execution_count": 41,
   "id": "2c702a1f-667e-45d1-9ec2-565fc2fbfcc2",
   "metadata": {},
   "outputs": [],
   "source": [
    "df_5 = df_4.copy()\n",
    "from sklearn.preprocessing import LabelEncoder\n",
    "label_encoder = LabelEncoder()\n",
    "df_5['추가결제금액발생여부'] = label_encoder.fit_transform(df_5['추가결제금액발생여부'])"
   ]
  },
  {
   "cell_type": "code",
   "execution_count": 43,
   "id": "b8b8fa01",
   "metadata": {},
   "outputs": [
    {
     "name": "stdout",
     "output_type": "stream",
     "text": [
      "서비스가격 ↔ 거래취소율 | 상관계수: 0.001 | p-value: 0.45541\n",
      "추가결제금액발생여부 ↔ 거래취소율 | 상관계수: -0.012 | p-value: 0.00000\n"
     ]
    }
   ],
   "source": [
    "from scipy.stats import pearsonr\n",
    "\n",
    "variables = ['서비스가격', '추가결제금액발생여부']\n",
    "for var in variables:\n",
    "    corr, p = pearsonr(df_5[var], df_5['거래취소율'])\n",
    "    print(f\"{var} ↔ 거래취소율 | 상관계수: {corr:.3f} | p-value: {p:.5f}\")"
   ]
  },
  {
   "cell_type": "code",
   "execution_count": 50,
   "id": "894ce262-6fb8-4664-b922-6774d309a9cf",
   "metadata": {},
   "outputs": [
    {
     "name": "stdout",
     "output_type": "stream",
     "text": [
      "t-통계량: 6.7684, p-값: 0.0000\n",
      "추가결제금액발생여부에 따른 거래취소율 차이가 통계적으로 유의미함.\n"
     ]
    }
   ],
   "source": [
    "from scipy import stats\n",
    "\n",
    "# 추가결제금액발생여부가 0인 그룹과 1인 그룹의 거래취소율 데이터 추출\n",
    "group_0 = df_5[df_5['추가결제금액발생여부'] == 0]['거래취소율']\n",
    "group_1 = df_5[df_5['추가결제금액발생여부'] == 1]['거래취소율']\n",
    "\n",
    "# 독립표본 t-검정 수행\n",
    "t_stat, p_value = stats.ttest_ind(group_0, group_1, equal_var=False)  # 등분산 가정 X\n",
    "\n",
    "# 결과 출력\n",
    "print(f\"t-통계량: {t_stat:.4f}, p-값: {p_value:.4f}\")\n",
    "\n",
    "# 해석\n",
    "if p_value < 0.05:\n",
    "    print(\"추가결제금액발생여부에 따른 거래취소율 차이가 통계적으로 유의미함.\")\n",
    "else:\n",
    "    print(\"추가결제금액발생여부에 따른 거래취소율 차이가 통계적으로 유의미하지 않음.\")\n"
   ]
  },
  {
   "cell_type": "code",
   "execution_count": null,
   "id": "83acfe76-c5ec-47ea-9525-681bfeff4553",
   "metadata": {},
   "outputs": [],
   "source": []
  }
 ],
 "metadata": {
  "kernelspec": {
   "display_name": "Python 3 (ipykernel)",
   "language": "python",
   "name": "python3"
  },
  "language_info": {
   "codemirror_mode": {
    "name": "ipython",
    "version": 3
   },
   "file_extension": ".py",
   "mimetype": "text/x-python",
   "name": "python",
   "nbconvert_exporter": "python",
   "pygments_lexer": "ipython3",
   "version": "3.11.5"
  }
 },
 "nbformat": 4,
 "nbformat_minor": 5
}
