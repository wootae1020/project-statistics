{
 "cells": [
  {
   "cell_type": "code",
   "execution_count": 18,
   "id": "38859f0a-d53b-4910-b297-5c899e94137c",
   "metadata": {},
   "outputs": [],
   "source": [
    "import pandas as pd\n",
    "df=pd.read_csv(\"Merge_2.csv\")\n",
    "df['거래일자'] = pd.to_datetime(df['거래일자']) # int -> datetime\n",
    "df['거래취소여부'] = df['거래취소여부'].astype('int64') # float64 -> int64\n",
    "df['판매금액'] = df['판매금액'].astype('int64') #float64 -> int64\n",
    "df['서비스가격'] = df['서비스가격'].astype('int64') #float64 -> int64\n",
    "df['이용자수'] = df['이용자수'].astype('int64') #float64 -> int64\n",
    "df['서비스번호'] = df['서비스번호'].astype('int64') #float64 -> int64\n",
    "df['총금액'] = df['총금액'].astype('int64') #float64 -> int64\n",
    "df['매출'] = df['매출'].astype('int64') #float64 -> int64\n",
    "df['연령'] = df['연령'].astype('int64') #float64 -> int64\n",
    "df['총구매금액'] = df['총구매금액'].astype('int64') #float64 -> int64\n",
    "df['총 판매 금액'] = df['총 판매 금액'].astype('int64') #float64 -> int64"
   ]
  },
  {
   "cell_type": "code",
   "execution_count": 19,
   "id": "a16b92fd",
   "metadata": {},
   "outputs": [
    {
     "data": {
      "text/plain": [
       "[1, 0]\n",
       "Categories (2, int64): [0, 1]"
      ]
     },
     "execution_count": 19,
     "metadata": {},
     "output_type": "execute_result"
    }
   ],
   "source": [
    "df1=df.copy()\n",
    "# 새로운 컬럼 '추가결제금액발생여부' 생성\n",
    "df1['추가결제금액발생여부'] = df1['추가결제금액'].apply(lambda x: 0 if x == 0 else 1)\n",
    "df1['추가결제금액발생여부'] = df1['추가결제금액발생여부'].astype('category')\n",
    "df1['추가결제금액발생여부'].unique()"
   ]
  },
  {
   "cell_type": "markdown",
   "id": "55f3bb50-5453-4ae1-bb0c-f67079b1164e",
   "metadata": {},
   "source": [
    "서비스 가격 , 추가 결제금액 발생여부=> 거래취소율에 영향 "
   ]
  },
  {
   "cell_type": "code",
   "execution_count": 20,
   "id": "216683d9-3561-4228-bb83-7f0f998fa7c5",
   "metadata": {},
   "outputs": [
    {
     "data": {
      "text/html": [
       "<div>\n",
       "<style scoped>\n",
       "    .dataframe tbody tr th:only-of-type {\n",
       "        vertical-align: middle;\n",
       "    }\n",
       "\n",
       "    .dataframe tbody tr th {\n",
       "        vertical-align: top;\n",
       "    }\n",
       "\n",
       "    .dataframe thead th {\n",
       "        text-align: right;\n",
       "    }\n",
       "</style>\n",
       "<table border=\"1\" class=\"dataframe\">\n",
       "  <thead>\n",
       "    <tr style=\"text-align: right;\">\n",
       "      <th></th>\n",
       "      <th>서비스가격</th>\n",
       "      <th>서비스번호</th>\n",
       "      <th>거래취소율</th>\n",
       "    </tr>\n",
       "  </thead>\n",
       "  <tbody>\n",
       "    <tr>\n",
       "      <th>0</th>\n",
       "      <td>5000</td>\n",
       "      <td>2102</td>\n",
       "      <td>1.259446</td>\n",
       "    </tr>\n",
       "    <tr>\n",
       "      <th>1</th>\n",
       "      <td>10000</td>\n",
       "      <td>2103</td>\n",
       "      <td>2.435897</td>\n",
       "    </tr>\n",
       "    <tr>\n",
       "      <th>2</th>\n",
       "      <td>50000</td>\n",
       "      <td>2105</td>\n",
       "      <td>2.087683</td>\n",
       "    </tr>\n",
       "    <tr>\n",
       "      <th>3</th>\n",
       "      <td>5000</td>\n",
       "      <td>2106</td>\n",
       "      <td>3.602058</td>\n",
       "    </tr>\n",
       "    <tr>\n",
       "      <th>4</th>\n",
       "      <td>5000</td>\n",
       "      <td>2107</td>\n",
       "      <td>1.207938</td>\n",
       "    </tr>\n",
       "    <tr>\n",
       "      <th>...</th>\n",
       "      <td>...</td>\n",
       "      <td>...</td>\n",
       "      <td>...</td>\n",
       "    </tr>\n",
       "    <tr>\n",
       "      <th>2857</th>\n",
       "      <td>850000</td>\n",
       "      <td>6488</td>\n",
       "      <td>0.000000</td>\n",
       "    </tr>\n",
       "    <tr>\n",
       "      <th>2858</th>\n",
       "      <td>550000</td>\n",
       "      <td>6489</td>\n",
       "      <td>0.000000</td>\n",
       "    </tr>\n",
       "    <tr>\n",
       "      <th>2859</th>\n",
       "      <td>380000</td>\n",
       "      <td>6494</td>\n",
       "      <td>0.000000</td>\n",
       "    </tr>\n",
       "    <tr>\n",
       "      <th>2860</th>\n",
       "      <td>33000</td>\n",
       "      <td>6495</td>\n",
       "      <td>0.000000</td>\n",
       "    </tr>\n",
       "    <tr>\n",
       "      <th>2861</th>\n",
       "      <td>50000</td>\n",
       "      <td>6496</td>\n",
       "      <td>0.000000</td>\n",
       "    </tr>\n",
       "  </tbody>\n",
       "</table>\n",
       "<p>2862 rows × 3 columns</p>\n",
       "</div>"
      ],
      "text/plain": [
       "       서비스가격  서비스번호     거래취소율\n",
       "0       5000   2102  1.259446\n",
       "1      10000   2103  2.435897\n",
       "2      50000   2105  2.087683\n",
       "3       5000   2106  3.602058\n",
       "4       5000   2107  1.207938\n",
       "...      ...    ...       ...\n",
       "2857  850000   6488  0.000000\n",
       "2858  550000   6489  0.000000\n",
       "2859  380000   6494  0.000000\n",
       "2860   33000   6495  0.000000\n",
       "2861   50000   6496  0.000000\n",
       "\n",
       "[2862 rows x 3 columns]"
      ]
     },
     "execution_count": 20,
     "metadata": {},
     "output_type": "execute_result"
    }
   ],
   "source": [
    "df_selected = df1[['서비스가격', '서비스번호', '거래취소여부']]\n",
    "\n",
    "df_grouped = df_selected.groupby('서비스번호').agg(\n",
    "    취소된_거래수=('거래취소여부', lambda x: (x == 1).sum()),  # 거래취소여부가 1인 취소된 거래 수\n",
    "    전체_거래수=('거래취소여부', 'count')                    # 서비스명별 전체 거래 수\n",
    ").reset_index()\n",
    "\n",
    "# 거래취소율 계산\n",
    "df_grouped['거래취소율'] = (df_grouped['취소된_거래수'] / df_grouped['전체_거래수']) * 100\n",
    "\n",
    "# 서비스명별 가격은 첫 번째 값만 가져오기 (서비스번호별 가격은 동일하므로 첫 번째 값만 사용)\n",
    "df_grouped['서비스가격'] = df.groupby('서비스번호')['서비스가격'].first().values\n",
    "\n",
    "df_3 = df_grouped[['서비스가격', '서비스번호', '거래취소율']]\n",
    "\n",
    "df_3"
   ]
  },
  {
   "cell_type": "code",
   "execution_count": 21,
   "id": "b67eabdf-72b9-4160-ad63-6e208135382d",
   "metadata": {},
   "outputs": [],
   "source": [
    "df2 = df1[['서비스번호','추가결제금액발생여부']]"
   ]
  },
  {
   "cell_type": "code",
   "execution_count": 22,
   "id": "19fe0a8b-6788-4857-a921-d7e608467ac2",
   "metadata": {},
   "outputs": [],
   "source": [
    "df_4 = pd.merge(df_3,df2,on='서비스번호')"
   ]
  },
  {
   "cell_type": "code",
   "execution_count": 23,
   "id": "29bae746-e576-41f9-89e5-583028987597",
   "metadata": {},
   "outputs": [
    {
     "name": "stdout",
     "output_type": "stream",
     "text": [
      "<class 'pandas.core.frame.DataFrame'>\n",
      "RangeIndex: 335450 entries, 0 to 335449\n",
      "Data columns (total 4 columns):\n",
      " #   Column      Non-Null Count   Dtype   \n",
      "---  ------      --------------   -----   \n",
      " 0   서비스가격       335450 non-null  int64   \n",
      " 1   서비스번호       335450 non-null  int64   \n",
      " 2   거래취소율       335450 non-null  float64 \n",
      " 3   추가결제금액발생여부  335450 non-null  category\n",
      "dtypes: category(1), float64(1), int64(2)\n",
      "memory usage: 8.0 MB\n"
     ]
    }
   ],
   "source": [
    "df_4.info()"
   ]
  },
  {
   "cell_type": "code",
   "execution_count": 24,
   "id": "2c702a1f-667e-45d1-9ec2-565fc2fbfcc2",
   "metadata": {},
   "outputs": [
    {
     "name": "stderr",
     "output_type": "stream",
     "text": [
      "C:\\Users\\woota\\anaconda3\\Lib\\site-packages\\sklearn\\utils\\validation.py:605: FutureWarning: is_sparse is deprecated and will be removed in a future version. Check `isinstance(dtype, pd.SparseDtype)` instead.\n",
      "  if is_sparse(pd_dtype):\n",
      "C:\\Users\\woota\\anaconda3\\Lib\\site-packages\\sklearn\\utils\\validation.py:614: FutureWarning: is_sparse is deprecated and will be removed in a future version. Check `isinstance(dtype, pd.SparseDtype)` instead.\n",
      "  if is_sparse(pd_dtype) or not is_extension_array_dtype(pd_dtype):\n"
     ]
    }
   ],
   "source": [
    "df_5 = df_4.copy()\n",
    "from sklearn.preprocessing import LabelEncoder\n",
    "label_encoder = LabelEncoder()\n",
    "df_5['추가결제금액발생여부'] = label_encoder.fit_transform(df_5['추가결제금액발생여부'])"
   ]
  },
  {
   "cell_type": "code",
   "execution_count": 25,
   "id": "b8b8fa01",
   "metadata": {},
   "outputs": [
    {
     "name": "stdout",
     "output_type": "stream",
     "text": [
      "서비스가격 ↔ 거래취소율 | 상관계수: 0.001 | p-value: 0.45173\n",
      "추가결제금액발생여부 ↔ 거래취소율 | 상관계수: -0.012 | p-value: 0.00000\n"
     ]
    }
   ],
   "source": [
    "from scipy.stats import pearsonr\n",
    "\n",
    "variables = ['서비스가격', '추가결제금액발생여부']\n",
    "for var in variables:\n",
    "    corr, p = pearsonr(df_5[var], df_5['거래취소율'])\n",
    "    print(f\"{var} ↔ 거래취소율 | 상관계수: {corr:.3f} | p-value: {p:.5f}\")"
   ]
  },
  {
   "cell_type": "markdown",
   "id": "274c2b13",
   "metadata": {},
   "source": [
    "t 검정"
   ]
  },
  {
   "cell_type": "code",
   "execution_count": 27,
   "id": "d8ec2c6b",
   "metadata": {},
   "outputs": [
    {
     "name": "stdout",
     "output_type": "stream",
     "text": [
      "Levene's Test: 통계량=24.939, p-value=0.00000\n",
      "귀무가설 기각: 두 그룹의 분산이 다릅니다 (등분산성 없음).\n"
     ]
    }
   ],
   "source": [
    "from scipy.stats import levene\n",
    "\n",
    "# 추가결제금액발생여부 그룹 나누기\n",
    "group_0 = df_5[df_5['추가결제금액발생여부'] == 0]['거래취소율']\n",
    "group_1 = df_5[df_5['추가결제금액발생여부'] == 1]['거래취소율']\n",
    "\n",
    "# Levene’s Test 수행\n",
    "stat, p_value = levene(group_0, group_1)\n",
    "\n",
    "# 결과 출력\n",
    "print(f\"Levene's Test: 통계량={stat:.3f}, p-value={p_value:.5f}\")\n",
    "\n",
    "# 해석\n",
    "if p_value < 0.05:\n",
    "    print(\"귀무가설 기각: 두 그룹의 분산이 다릅니다 (등분산성 없음).\")\n",
    "else:\n",
    "    print(\"귀무가설 채택: 두 그룹의 분산이 같습니다 (등분산성 있음).\")"
   ]
  },
  {
   "cell_type": "code",
   "execution_count": 28,
   "id": "83acfe76-c5ec-47ea-9525-681bfeff4553",
   "metadata": {},
   "outputs": [
    {
     "name": "stdout",
     "output_type": "stream",
     "text": [
      "Welch's t-test: t-통계량=6.7341, p-값=0.0000\n",
      "추가결제금액발생여부에 따른 거래취소율 차이가 통계적으로 유의미함.\n"
     ]
    }
   ],
   "source": [
    "from scipy import stats\n",
    "\n",
    "# 추가결제금액발생여부가 0인 그룹과 1인 그룹의 거래취소율 데이터 추출\n",
    "group_0 = df_5[df_5['추가결제금액발생여부'] == 0]['거래취소율']\n",
    "group_1 = df_5[df_5['추가결제금액발생여부'] == 1]['거래취소율']\n",
    "\n",
    "# Welch’s t-test 수행 (등분산 가정 X)\n",
    "t_stat, p_value = stats.ttest_ind(group_0, group_1, equal_var=False)\n",
    "\n",
    "# 결과 출력\n",
    "print(f\"Welch's t-test: t-통계량={t_stat:.4f}, p-값={p_value:.4f}\")\n",
    "\n",
    "# 해석\n",
    "if p_value < 0.05:\n",
    "    print(\"추가결제금액발생여부에 따른 거래취소율 차이가 통계적으로 유의미함.\")\n",
    "else:\n",
    "    print(\"추가결제금액발생여부에 따른 거래취소율 차이가 통계적으로 유의미하지 않음.\")"
   ]
  },
  {
   "cell_type": "code",
   "execution_count": null,
   "id": "f8b7efd4",
   "metadata": {},
   "outputs": [],
   "source": []
  }
 ],
 "metadata": {
  "kernelspec": {
   "display_name": "Python 3 (ipykernel)",
   "language": "python",
   "name": "python3"
  },
  "language_info": {
   "codemirror_mode": {
    "name": "ipython",
    "version": 3
   },
   "file_extension": ".py",
   "mimetype": "text/x-python",
   "name": "python",
   "nbconvert_exporter": "python",
   "pygments_lexer": "ipython3",
   "version": "3.12.7"
  }
 },
 "nbformat": 4,
 "nbformat_minor": 5
}
