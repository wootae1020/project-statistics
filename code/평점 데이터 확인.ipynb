{
 "cells": [
  {
   "cell_type": "code",
   "execution_count": 1,
   "id": "24bbbe68-a288-4fd6-9dea-b26898fd4d70",
   "metadata": {},
   "outputs": [],
   "source": [
    "import pandas as pd\n",
    "df_service=pd.read_csv('Service_Data.csv')\n",
    "df_log=pd.read_csv('Log_Data02.csv')\n",
    "df_service.info()\n",
    "df_log.info()"
   ]
  },
  {
   "cell_type": "code",
   "execution_count": 3,
   "id": "f28719a6",
   "metadata": {},
   "outputs": [],
   "source": [
    "grouped_stats1 = df_service.groupby(['서비스명', '판매자', '서비스번호'])['평점'].describe()\n",
    "grouped_stats2 = df_log.groupby(['서비스명', '판매자', '서비스번호'])['평점'].describe()\n",
    "grouped_stats1 = grouped_stats1.drop(['count','std'],axis=1)\n",
    "grouped_stats2 = grouped_stats2.drop(['count','std'],axis=1)"
   ]
  },
  {
   "cell_type": "code",
   "execution_count": 24,
   "id": "15491205-87bc-4837-8df8-0c5387270cee",
   "metadata": {},
   "outputs": [
    {
     "name": "stdout",
     "output_type": "stream",
     "text": [
      "전체 값이 완전히 같은가? → False\n"
     ]
    }
   ],
   "source": [
    "# 1. 값이 정확히 같은지 전체 비교 (DataFrame 단위)\n",
    "전체_동일 = grouped_stats1.equals(grouped_stats2)\n",
    "print(\"전체 값이 완전히 같은가? →\", 전체_동일)"
   ]
  },
  {
   "cell_type": "code",
   "execution_count": 27,
   "id": "cd1adbab-8cd9-423a-a5b2-f9ee8e62212c",
   "metadata": {},
   "outputs": [
    {
     "name": "stdout",
     "output_type": "stream",
     "text": [
      "차이 나는 행 수: 151\n",
      "                                                          mean_service  \\\n",
      "서비스명                                   판매자        서비스번호                  \n",
      "\"개발 공부 전 필독\" IT 서비스 기본 개념 Ebook을 드립니다. DDAAC      3361.0           4.8   \n",
      ".NET 기반 웹사이트/API 제작                    닷JYL       3740.0           4.9   \n",
      "C, C, JAVA, DB 프로그램 제작에 도움을 드립니다.      프로그래밍고오수   2945.0           4.9   \n",
      "C언어, 파이썬, 웹 프로그래밍, 프로젝트도와드립니다.         rigelko    2465.0           4.9   \n",
      "DB, 설계, 쿼리튜닝 및 엑셀, 데이터정리 해 드립니다.       가이버박       3011.0           4.9   \n",
      "...                                                                ...   \n",
      "풀스택 개발자가 웹 퍼블리싱을 해 드립니다.               show4you   2703.0           4.9   \n",
      "필요하신 웹사이트를 검색해 드립니다.                   도라지        3252.0           4.6   \n",
      "해외 구매대행 쇼핑 웹 크롤링해 드립니다.                stonemodoo 2754.0           4.9   \n",
      "홈페이지 유지보수 수정 디버깅해 드립니다.                10년차웹개발자   2625.0           4.9   \n",
      "홈페이지끝판왕 카페24 cafe24 디자인수정 기능개선         카페24전문     2208.0           4.9   \n",
      "\n",
      "                                                          min_service  \\\n",
      "서비스명                                   판매자        서비스번호                 \n",
      "\"개발 공부 전 필독\" IT 서비스 기본 개념 Ebook을 드립니다. DDAAC      3361.0          4.8   \n",
      ".NET 기반 웹사이트/API 제작                    닷JYL       3740.0          4.9   \n",
      "C, C, JAVA, DB 프로그램 제작에 도움을 드립니다.      프로그래밍고오수   2945.0          4.9   \n",
      "C언어, 파이썬, 웹 프로그래밍, 프로젝트도와드립니다.         rigelko    2465.0          4.9   \n",
      "DB, 설계, 쿼리튜닝 및 엑셀, 데이터정리 해 드립니다.       가이버박       3011.0          4.9   \n",
      "...                                                               ...   \n",
      "풀스택 개발자가 웹 퍼블리싱을 해 드립니다.               show4you   2703.0          4.9   \n",
      "필요하신 웹사이트를 검색해 드립니다.                   도라지        3252.0          4.6   \n",
      "해외 구매대행 쇼핑 웹 크롤링해 드립니다.                stonemodoo 2754.0          4.9   \n",
      "홈페이지 유지보수 수정 디버깅해 드립니다.                10년차웹개발자   2625.0          4.9   \n",
      "홈페이지끝판왕 카페24 cafe24 디자인수정 기능개선         카페24전문     2208.0          4.9   \n",
      "\n",
      "                                                          25%_service  \\\n",
      "서비스명                                   판매자        서비스번호                 \n",
      "\"개발 공부 전 필독\" IT 서비스 기본 개념 Ebook을 드립니다. DDAAC      3361.0          4.8   \n",
      ".NET 기반 웹사이트/API 제작                    닷JYL       3740.0          4.9   \n",
      "C, C, JAVA, DB 프로그램 제작에 도움을 드립니다.      프로그래밍고오수   2945.0          4.9   \n",
      "C언어, 파이썬, 웹 프로그래밍, 프로젝트도와드립니다.         rigelko    2465.0          4.9   \n",
      "DB, 설계, 쿼리튜닝 및 엑셀, 데이터정리 해 드립니다.       가이버박       3011.0          4.9   \n",
      "...                                                               ...   \n",
      "풀스택 개발자가 웹 퍼블리싱을 해 드립니다.               show4you   2703.0          4.9   \n",
      "필요하신 웹사이트를 검색해 드립니다.                   도라지        3252.0          4.6   \n",
      "해외 구매대행 쇼핑 웹 크롤링해 드립니다.                stonemodoo 2754.0          4.9   \n",
      "홈페이지 유지보수 수정 디버깅해 드립니다.                10년차웹개발자   2625.0          4.9   \n",
      "홈페이지끝판왕 카페24 cafe24 디자인수정 기능개선         카페24전문     2208.0          4.9   \n",
      "\n",
      "                                                          50%_service  \\\n",
      "서비스명                                   판매자        서비스번호                 \n",
      "\"개발 공부 전 필독\" IT 서비스 기본 개념 Ebook을 드립니다. DDAAC      3361.0          4.8   \n",
      ".NET 기반 웹사이트/API 제작                    닷JYL       3740.0          4.9   \n",
      "C, C, JAVA, DB 프로그램 제작에 도움을 드립니다.      프로그래밍고오수   2945.0          4.9   \n",
      "C언어, 파이썬, 웹 프로그래밍, 프로젝트도와드립니다.         rigelko    2465.0          4.9   \n",
      "DB, 설계, 쿼리튜닝 및 엑셀, 데이터정리 해 드립니다.       가이버박       3011.0          4.9   \n",
      "...                                                               ...   \n",
      "풀스택 개발자가 웹 퍼블리싱을 해 드립니다.               show4you   2703.0          4.9   \n",
      "필요하신 웹사이트를 검색해 드립니다.                   도라지        3252.0          4.6   \n",
      "해외 구매대행 쇼핑 웹 크롤링해 드립니다.                stonemodoo 2754.0          4.9   \n",
      "홈페이지 유지보수 수정 디버깅해 드립니다.                10년차웹개발자   2625.0          4.9   \n",
      "홈페이지끝판왕 카페24 cafe24 디자인수정 기능개선         카페24전문     2208.0          4.9   \n",
      "\n",
      "                                                          75%_service  \\\n",
      "서비스명                                   판매자        서비스번호                 \n",
      "\"개발 공부 전 필독\" IT 서비스 기본 개념 Ebook을 드립니다. DDAAC      3361.0          4.8   \n",
      ".NET 기반 웹사이트/API 제작                    닷JYL       3740.0          4.9   \n",
      "C, C, JAVA, DB 프로그램 제작에 도움을 드립니다.      프로그래밍고오수   2945.0          4.9   \n",
      "C언어, 파이썬, 웹 프로그래밍, 프로젝트도와드립니다.         rigelko    2465.0          4.9   \n",
      "DB, 설계, 쿼리튜닝 및 엑셀, 데이터정리 해 드립니다.       가이버박       3011.0          4.9   \n",
      "...                                                               ...   \n",
      "풀스택 개발자가 웹 퍼블리싱을 해 드립니다.               show4you   2703.0          4.9   \n",
      "필요하신 웹사이트를 검색해 드립니다.                   도라지        3252.0          4.6   \n",
      "해외 구매대행 쇼핑 웹 크롤링해 드립니다.                stonemodoo 2754.0          4.9   \n",
      "홈페이지 유지보수 수정 디버깅해 드립니다.                10년차웹개발자   2625.0          4.9   \n",
      "홈페이지끝판왕 카페24 cafe24 디자인수정 기능개선         카페24전문     2208.0          4.9   \n",
      "\n",
      "                                                          max_service  \\\n",
      "서비스명                                   판매자        서비스번호                 \n",
      "\"개발 공부 전 필독\" IT 서비스 기본 개념 Ebook을 드립니다. DDAAC      3361.0          4.8   \n",
      ".NET 기반 웹사이트/API 제작                    닷JYL       3740.0          4.9   \n",
      "C, C, JAVA, DB 프로그램 제작에 도움을 드립니다.      프로그래밍고오수   2945.0          4.9   \n",
      "C언어, 파이썬, 웹 프로그래밍, 프로젝트도와드립니다.         rigelko    2465.0          4.9   \n",
      "DB, 설계, 쿼리튜닝 및 엑셀, 데이터정리 해 드립니다.       가이버박       3011.0          4.9   \n",
      "...                                                               ...   \n",
      "풀스택 개발자가 웹 퍼블리싱을 해 드립니다.               show4you   2703.0          4.9   \n",
      "필요하신 웹사이트를 검색해 드립니다.                   도라지        3252.0          4.6   \n",
      "해외 구매대행 쇼핑 웹 크롤링해 드립니다.                stonemodoo 2754.0          4.9   \n",
      "홈페이지 유지보수 수정 디버깅해 드립니다.                10년차웹개발자   2625.0          4.9   \n",
      "홈페이지끝판왕 카페24 cafe24 디자인수정 기능개선         카페24전문     2208.0          4.9   \n",
      "\n",
      "                                                          mean_log  min_log  \\\n",
      "서비스명                                   판매자        서비스번호                       \n",
      "\"개발 공부 전 필독\" IT 서비스 기본 개념 Ebook을 드립니다. DDAAC      3361.0       4.8      4.8   \n",
      ".NET 기반 웹사이트/API 제작                    닷JYL       3740.0       4.9      4.9   \n",
      "C, C, JAVA, DB 프로그램 제작에 도움을 드립니다.      프로그래밍고오수   2945.0       4.9      4.9   \n",
      "C언어, 파이썬, 웹 프로그래밍, 프로젝트도와드립니다.         rigelko    2465.0       4.9      4.9   \n",
      "DB, 설계, 쿼리튜닝 및 엑셀, 데이터정리 해 드립니다.       가이버박       3011.0       4.9      4.9   \n",
      "...                                                            ...      ...   \n",
      "풀스택 개발자가 웹 퍼블리싱을 해 드립니다.               show4you   2703.0       4.9      4.9   \n",
      "필요하신 웹사이트를 검색해 드립니다.                   도라지        3252.0       4.6      4.6   \n",
      "해외 구매대행 쇼핑 웹 크롤링해 드립니다.                stonemodoo 2754.0       4.9      4.9   \n",
      "홈페이지 유지보수 수정 디버깅해 드립니다.                10년차웹개발자   2625.0       4.9      4.9   \n",
      "홈페이지끝판왕 카페24 cafe24 디자인수정 기능개선         카페24전문     2208.0       4.9      4.9   \n",
      "\n",
      "                                                          25%_log  50%_log  \\\n",
      "서비스명                                   판매자        서비스번호                      \n",
      "\"개발 공부 전 필독\" IT 서비스 기본 개념 Ebook을 드립니다. DDAAC      3361.0      4.8      4.8   \n",
      ".NET 기반 웹사이트/API 제작                    닷JYL       3740.0      4.9      4.9   \n",
      "C, C, JAVA, DB 프로그램 제작에 도움을 드립니다.      프로그래밍고오수   2945.0      4.9      4.9   \n",
      "C언어, 파이썬, 웹 프로그래밍, 프로젝트도와드립니다.         rigelko    2465.0      4.9      4.9   \n",
      "DB, 설계, 쿼리튜닝 및 엑셀, 데이터정리 해 드립니다.       가이버박       3011.0      4.9      4.9   \n",
      "...                                                           ...      ...   \n",
      "풀스택 개발자가 웹 퍼블리싱을 해 드립니다.               show4you   2703.0      4.9      4.9   \n",
      "필요하신 웹사이트를 검색해 드립니다.                   도라지        3252.0      4.6      4.6   \n",
      "해외 구매대행 쇼핑 웹 크롤링해 드립니다.                stonemodoo 2754.0      4.9      4.9   \n",
      "홈페이지 유지보수 수정 디버깅해 드립니다.                10년차웹개발자   2625.0      4.9      4.9   \n",
      "홈페이지끝판왕 카페24 cafe24 디자인수정 기능개선         카페24전문     2208.0      4.9      4.9   \n",
      "\n",
      "                                                          75%_log  max_log  \n",
      "서비스명                                   판매자        서비스번호                     \n",
      "\"개발 공부 전 필독\" IT 서비스 기본 개념 Ebook을 드립니다. DDAAC      3361.0      4.8      4.8  \n",
      ".NET 기반 웹사이트/API 제작                    닷JYL       3740.0      4.9      4.9  \n",
      "C, C, JAVA, DB 프로그램 제작에 도움을 드립니다.      프로그래밍고오수   2945.0      4.9      4.9  \n",
      "C언어, 파이썬, 웹 프로그래밍, 프로젝트도와드립니다.         rigelko    2465.0      4.9      4.9  \n",
      "DB, 설계, 쿼리튜닝 및 엑셀, 데이터정리 해 드립니다.       가이버박       3011.0      4.9      4.9  \n",
      "...                                                           ...      ...  \n",
      "풀스택 개발자가 웹 퍼블리싱을 해 드립니다.               show4you   2703.0      4.9      4.9  \n",
      "필요하신 웹사이트를 검색해 드립니다.                   도라지        3252.0      4.6      4.6  \n",
      "해외 구매대행 쇼핑 웹 크롤링해 드립니다.                stonemodoo 2754.0      4.9      4.9  \n",
      "홈페이지 유지보수 수정 디버깅해 드립니다.                10년차웹개발자   2625.0      4.9      4.9  \n",
      "홈페이지끝판왕 카페24 cafe24 디자인수정 기능개선         카페24전문     2208.0      4.9      4.9  \n",
      "\n",
      "[151 rows x 12 columns]\n"
     ]
    }
   ],
   "source": [
    "# 2. 값이 다른 부분 찾기\n",
    "차이나는_행 = (grouped_stats1 != grouped_stats2)\n",
    "\n",
    "# 3. 하나라도 다른 행만 추출\n",
    "diff_indices = 차이나는_행.any(axis=1)\n",
    "차이나는_데이터 = pd.concat([\n",
    "    grouped_stats1[diff_indices].add_suffix('_service'),\n",
    "    grouped_stats2[diff_indices].add_suffix('_log')\n",
    "], axis=1)\n",
    "\n",
    "print(\"차이 나는 행 수:\", diff_indices.sum())\n",
    "print(차이나는_데이터)"
   ]
  },
  {
   "cell_type": "code",
   "execution_count": 28,
   "id": "a1e4e1da-eb08-410b-b678-dc4f25199614",
   "metadata": {},
   "outputs": [
    {
     "name": "stdout",
     "output_type": "stream",
     "text": [
      "차이 나는 행 수: 0\n",
      "Empty DataFrame\n",
      "Columns: [mean_service, min_service, 25%_service, 50%_service, 75%_service, max_service, mean_log, min_log, 25%_log, 50%_log, 75%_log, max_log]\n",
      "Index: []\n"
     ]
    }
   ],
   "source": [
    "# 2. 값이 다른 부분 찾기\n",
    "차이나는_행 = (grouped_stats1.round(1) != grouped_stats2.round(1))\n",
    "\n",
    "# 3. 하나라도 다른 행만 추출\n",
    "diff_indices = 차이나는_행.any(axis=1)\n",
    "차이나는_데이터 = pd.concat([\n",
    "    grouped_stats1[diff_indices].add_suffix('_service'),\n",
    "    grouped_stats2[diff_indices].add_suffix('_log')\n",
    "], axis=1)\n",
    "\n",
    "print(\"차이 나는 행 수:\", diff_indices.sum())\n",
    "print(차이나는_데이터)"
   ]
  },
  {
   "cell_type": "code",
   "execution_count": 29,
   "id": "683ca6d9-7b6d-494b-90cf-2f8dc5e24083",
   "metadata": {},
   "outputs": [
    {
     "data": {
      "text/plain": [
       "True"
      ]
     },
     "execution_count": 29,
     "metadata": {},
     "output_type": "execute_result"
    }
   ],
   "source": [
    "grouped_stats1.round(1).equals(grouped_stats2.round(1))"
   ]
  },
  {
   "cell_type": "code",
   "execution_count": null,
   "id": "9870a286",
   "metadata": {},
   "outputs": [],
   "source": []
  },
  {
   "cell_type": "code",
   "execution_count": null,
   "id": "5c3dad2a",
   "metadata": {},
   "outputs": [],
   "source": []
  },
  {
   "cell_type": "markdown",
   "id": "ae0f6134",
   "metadata": {},
   "source": [
    "# 누적 평점 = 평점 => 가설 사용 불가능 \n",
    "* 전문가의 특성이 고객 만족도에 영향을 미칠 것이다. \n",
    "### 고객 만족도 = 평점 이라고 생각 but  서비스의 자체 평점 = 평점 -> 피쳐 사용 불가 "
   ]
  },
  {
   "cell_type": "code",
   "execution_count": 46,
   "id": "76b680e0",
   "metadata": {},
   "outputs": [
    {
     "data": {
      "image/png": "[encoded data removed]",
      "text/plain": [
       "<Figure size 1400x500 with 1 Axes>"
      ]
     },
     "metadata": {},
     "output_type": "display_data"
    }
   ],
   "source": [
    "import matplotlib.pyplot as plt\n",
    "import numpy as np\n",
    "import matplotlib.font_manager as fm\n",
    "\n",
    "# 한글 폰트 설정\n",
    "plt.rc('font', family='Malgun Gothic')\n",
    "plt.rcParams['axes.unicode_minus'] = False\n",
    "\n",
    "# 비교 대상 추출\n",
    "mean1 = grouped_stats1['mean'].round(1).reset_index(drop=True)\n",
    "mean2 = grouped_stats2['mean'].round(1).reset_index(drop=True)\n",
    "\n",
    "# 샘플 선택\n",
    "mean1_sample = mean1[225:230]\n",
    "mean2_sample = mean2[225:230]\n",
    "\n",
    "# x축 설정\n",
    "x = np.arange(len(mean1_sample))\n",
    "width = 0.35\n",
    "\n",
    "# 그래프\n",
    "plt.figure(figsize=(14, 5))\n",
    "bars1 = plt.bar(x - width/2, mean1_sample, width, label='df_service 평균')\n",
    "bars2 = plt.bar(x + width/2, mean2_sample, width, label='df_log 평균')\n",
    "\n",
    "# 막대 위에 수치 표시\n",
    "for bar in bars1:\n",
    "    height = bar.get_height()\n",
    "    plt.text(bar.get_x() + bar.get_width()/2, height + 0.02, f'{height:.1f}', ha='center', va='bottom')\n",
    "\n",
    "for bar in bars2:\n",
    "    height = bar.get_height()\n",
    "    plt.text(bar.get_x() + bar.get_width()/2, height + 0.02, f'{height:.1f}', ha='center', va='bottom')\n",
    "\n",
    "# 꾸미기\n",
    "plt.title('평점 평균(mean) 비교 - 막대그래프 (샘플 5개)')\n",
    "plt.xlabel('서비스 샘플 인덱스')\n",
    "plt.ylabel('평점 평균')\n",
    "plt.xticks(x)\n",
    "plt.legend()\n",
    "plt.grid(True, axis='y')\n",
    "plt.tight_layout()\n",
    "plt.show()"
   ]
  },
  {
   "cell_type": "code",
   "execution_count": null,
   "id": "11641c14",
   "metadata": {},
   "outputs": [],
   "source": []
  }
 ],
 "metadata": {
  "kernelspec": {
   "display_name": "Python [conda env:base] *",
   "language": "python",
   "name": "conda-base-py"
  },
  "language_info": {
   "codemirror_mode": {
    "name": "ipython",
    "version": 3
   },
   "file_extension": ".py",
   "mimetype": "text/x-python",
   "name": "python",
   "nbconvert_exporter": "python",
   "pygments_lexer": "ipython3",
   "version": "3.12.7"
  }
 },
 "nbformat": 4,
 "nbformat_minor": 5
}
